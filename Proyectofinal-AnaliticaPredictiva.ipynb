{
 "cells": [
  {
   "cell_type": "code",
   "execution_count": 1,
   "id": "894a4ce9-85f4-47aa-86fa-8df43911ced1",
   "metadata": {
    "executionInfo": {
     "elapsed": 207,
     "status": "ok",
     "timestamp": 1722988054129,
     "user": {
      "displayName": "Paul Gálvez",
      "userId": "07569692290354937300"
     },
     "user_tz": 420
    },
    "id": "894a4ce9-85f4-47aa-86fa-8df43911ced1"
   },
   "outputs": [],
   "source": [
    "import numpy as np\n",
    "import pandas as pd\n",
    "import matplotlib.pyplot as plt\n",
    "import seaborn as sns\n",
    "\n",
    "import warnings\n",
    "warnings.filterwarnings(\"ignore\")"
   ]
  },
  {
   "cell_type": "code",
   "execution_count": 2,
   "id": "35ac597f-b24c-413c-a235-4304bc398784",
   "metadata": {
    "colab": {
     "base_uri": "https://localhost:8080/"
    },
    "executionInfo": {
     "elapsed": 12,
     "status": "ok",
     "timestamp": 1722988055443,
     "user": {
      "displayName": "Paul Gálvez",
      "userId": "07569692290354937300"
     },
     "user_tz": 420
    },
    "id": "35ac597f-b24c-413c-a235-4304bc398784",
    "outputId": "e361bded-da68-4cfa-d8a6-35d418b0d1c6"
   },
   "outputs": [
    {
     "name": "stdout",
     "output_type": "stream",
     "text": [
      "   Store        Date  Weekly_Sales  Holiday_Flag  Temperature  Fuel_Price  \\\n",
      "0      1  05-02-2010    1643690.90             0        42.31       2.572   \n",
      "1      1  12-02-2010    1641957.44             1        38.51       2.548   \n",
      "2      1  19-02-2010    1611968.17             0        39.93       2.514   \n",
      "3      1  26-02-2010    1409727.59             0        46.63       2.561   \n",
      "4      1  05-03-2010    1554806.68             0        46.50       2.625   \n",
      "5      1  12-03-2010    1439541.59             0        57.79       2.667   \n",
      "6      1  19-03-2010    1472515.79             0        54.58       2.720   \n",
      "7      1  26-03-2010    1404429.92             0        51.45       2.732   \n",
      "8      1  02-04-2010    1594968.28             0        62.27       2.719   \n",
      "9      1  09-04-2010    1545418.53             0        65.86       2.770   \n",
      "\n",
      "          CPI  Unemployment  \n",
      "0  211.096358         8.106  \n",
      "1  211.242170         8.106  \n",
      "2  211.289143         8.106  \n",
      "3  211.319643         8.106  \n",
      "4  211.350143         8.106  \n",
      "5  211.380643         8.106  \n",
      "6  211.215635         8.106  \n",
      "7  211.018042         8.106  \n",
      "8  210.820450         7.808  \n",
      "9  210.622857         7.808  \n"
     ]
    }
   ],
   "source": [
    "# Lee el archivo CSV\n",
    "df = pd.read_csv(r'C:\\Users\\NayelyC\\Desktop\\Universidad\\AnaliticaPredictiva\\Semana4\\Tarea4.2\\Walmart.csv')\n",
    "\n",
    "# Muestra las primeras filas del DataFrame\n",
    "print(df.head(10))"
   ]
  },
  {
   "cell_type": "code",
   "execution_count": 3,
   "id": "d38f747a-6bb3-48cb-8f1c-16e0c051469d",
   "metadata": {
    "colab": {
     "base_uri": "https://localhost:8080/"
    },
    "executionInfo": {
     "elapsed": 10,
     "status": "ok",
     "timestamp": 1722988055443,
     "user": {
      "displayName": "Paul Gálvez",
      "userId": "07569692290354937300"
     },
     "user_tz": 420
    },
    "id": "d38f747a-6bb3-48cb-8f1c-16e0c051469d",
    "outputId": "9a516481-67b3-49e4-a32c-9d97a5910c6a"
   },
   "outputs": [
    {
     "name": "stdout",
     "output_type": "stream",
     "text": [
      "<class 'pandas.core.frame.DataFrame'>\n",
      "RangeIndex: 6435 entries, 0 to 6434\n",
      "Data columns (total 8 columns):\n",
      " #   Column        Non-Null Count  Dtype  \n",
      "---  ------        --------------  -----  \n",
      " 0   Store         6435 non-null   int64  \n",
      " 1   Date          6435 non-null   object \n",
      " 2   Weekly_Sales  6435 non-null   float64\n",
      " 3   Holiday_Flag  6435 non-null   int64  \n",
      " 4   Temperature   6435 non-null   float64\n",
      " 5   Fuel_Price    6435 non-null   float64\n",
      " 6   CPI           6435 non-null   float64\n",
      " 7   Unemployment  6435 non-null   float64\n",
      "dtypes: float64(5), int64(2), object(1)\n",
      "memory usage: 402.3+ KB\n"
     ]
    }
   ],
   "source": [
    "df.info()"
   ]
  },
  {
   "cell_type": "code",
   "execution_count": 4,
   "id": "3dc19e5a-fda2-4eec-8397-e0e8c979585d",
   "metadata": {
    "executionInfo": {
     "elapsed": 10,
     "status": "ok",
     "timestamp": 1722988055444,
     "user": {
      "displayName": "Paul Gálvez",
      "userId": "07569692290354937300"
     },
     "user_tz": 420
    },
    "id": "3dc19e5a-fda2-4eec-8397-e0e8c979585d"
   },
   "outputs": [],
   "source": [
    "#Renombramos las columanas\n",
    "df.rename({'Store':'tienda', 'Weekly_Sales': 'ventas_semanales', 'Holiday_Flag':'semana_festiva',\n",
    "           'Temperature': 'temperatura', 'Fuel_Price':'precio_combustible', 'CPI':'indice_precios_c',\n",
    "           'Unemployment':'tasa_desempleo'}, axis=1, inplace=True)"
   ]
  },
  {
   "cell_type": "code",
   "execution_count": 5,
   "id": "28dfcc1f-2189-4f28-b046-54e4897ba48a",
   "metadata": {
    "colab": {
     "base_uri": "https://localhost:8080/",
     "height": 300
    },
    "executionInfo": {
     "elapsed": 9,
     "status": "ok",
     "timestamp": 1722988055444,
     "user": {
      "displayName": "Paul Gálvez",
      "userId": "07569692290354937300"
     },
     "user_tz": 420
    },
    "id": "28dfcc1f-2189-4f28-b046-54e4897ba48a",
    "outputId": "9b2552dc-769d-480d-b353-739b4847d4fd"
   },
   "outputs": [
    {
     "data": {
      "text/html": [
       "<div>\n",
       "<style scoped>\n",
       "    .dataframe tbody tr th:only-of-type {\n",
       "        vertical-align: middle;\n",
       "    }\n",
       "\n",
       "    .dataframe tbody tr th {\n",
       "        vertical-align: top;\n",
       "    }\n",
       "\n",
       "    .dataframe thead th {\n",
       "        text-align: right;\n",
       "    }\n",
       "</style>\n",
       "<table border=\"1\" class=\"dataframe\">\n",
       "  <thead>\n",
       "    <tr style=\"text-align: right;\">\n",
       "      <th></th>\n",
       "      <th>tienda</th>\n",
       "      <th>ventas_semanales</th>\n",
       "      <th>semana_festiva</th>\n",
       "      <th>temperatura</th>\n",
       "      <th>precio_combustible</th>\n",
       "      <th>indice_precios_c</th>\n",
       "      <th>tasa_desempleo</th>\n",
       "    </tr>\n",
       "  </thead>\n",
       "  <tbody>\n",
       "    <tr>\n",
       "      <th>count</th>\n",
       "      <td>6435.000000</td>\n",
       "      <td>6.435000e+03</td>\n",
       "      <td>6435.000000</td>\n",
       "      <td>6435.000000</td>\n",
       "      <td>6435.000000</td>\n",
       "      <td>6435.000000</td>\n",
       "      <td>6435.000000</td>\n",
       "    </tr>\n",
       "    <tr>\n",
       "      <th>mean</th>\n",
       "      <td>23.000000</td>\n",
       "      <td>1.046965e+06</td>\n",
       "      <td>0.069930</td>\n",
       "      <td>60.663782</td>\n",
       "      <td>3.358607</td>\n",
       "      <td>171.578394</td>\n",
       "      <td>7.999151</td>\n",
       "    </tr>\n",
       "    <tr>\n",
       "      <th>std</th>\n",
       "      <td>12.988182</td>\n",
       "      <td>5.643666e+05</td>\n",
       "      <td>0.255049</td>\n",
       "      <td>18.444933</td>\n",
       "      <td>0.459020</td>\n",
       "      <td>39.356712</td>\n",
       "      <td>1.875885</td>\n",
       "    </tr>\n",
       "    <tr>\n",
       "      <th>min</th>\n",
       "      <td>1.000000</td>\n",
       "      <td>2.099862e+05</td>\n",
       "      <td>0.000000</td>\n",
       "      <td>-2.060000</td>\n",
       "      <td>2.472000</td>\n",
       "      <td>126.064000</td>\n",
       "      <td>3.879000</td>\n",
       "    </tr>\n",
       "    <tr>\n",
       "      <th>25%</th>\n",
       "      <td>12.000000</td>\n",
       "      <td>5.533501e+05</td>\n",
       "      <td>0.000000</td>\n",
       "      <td>47.460000</td>\n",
       "      <td>2.933000</td>\n",
       "      <td>131.735000</td>\n",
       "      <td>6.891000</td>\n",
       "    </tr>\n",
       "    <tr>\n",
       "      <th>50%</th>\n",
       "      <td>23.000000</td>\n",
       "      <td>9.607460e+05</td>\n",
       "      <td>0.000000</td>\n",
       "      <td>62.670000</td>\n",
       "      <td>3.445000</td>\n",
       "      <td>182.616521</td>\n",
       "      <td>7.874000</td>\n",
       "    </tr>\n",
       "    <tr>\n",
       "      <th>75%</th>\n",
       "      <td>34.000000</td>\n",
       "      <td>1.420159e+06</td>\n",
       "      <td>0.000000</td>\n",
       "      <td>74.940000</td>\n",
       "      <td>3.735000</td>\n",
       "      <td>212.743293</td>\n",
       "      <td>8.622000</td>\n",
       "    </tr>\n",
       "    <tr>\n",
       "      <th>max</th>\n",
       "      <td>45.000000</td>\n",
       "      <td>3.818686e+06</td>\n",
       "      <td>1.000000</td>\n",
       "      <td>100.140000</td>\n",
       "      <td>4.468000</td>\n",
       "      <td>227.232807</td>\n",
       "      <td>14.313000</td>\n",
       "    </tr>\n",
       "  </tbody>\n",
       "</table>\n",
       "</div>"
      ],
      "text/plain": [
       "            tienda  ventas_semanales  semana_festiva  temperatura  \\\n",
       "count  6435.000000      6.435000e+03     6435.000000  6435.000000   \n",
       "mean     23.000000      1.046965e+06        0.069930    60.663782   \n",
       "std      12.988182      5.643666e+05        0.255049    18.444933   \n",
       "min       1.000000      2.099862e+05        0.000000    -2.060000   \n",
       "25%      12.000000      5.533501e+05        0.000000    47.460000   \n",
       "50%      23.000000      9.607460e+05        0.000000    62.670000   \n",
       "75%      34.000000      1.420159e+06        0.000000    74.940000   \n",
       "max      45.000000      3.818686e+06        1.000000   100.140000   \n",
       "\n",
       "       precio_combustible  indice_precios_c  tasa_desempleo  \n",
       "count         6435.000000       6435.000000     6435.000000  \n",
       "mean             3.358607        171.578394        7.999151  \n",
       "std              0.459020         39.356712        1.875885  \n",
       "min              2.472000        126.064000        3.879000  \n",
       "25%              2.933000        131.735000        6.891000  \n",
       "50%              3.445000        182.616521        7.874000  \n",
       "75%              3.735000        212.743293        8.622000  \n",
       "max              4.468000        227.232807       14.313000  "
      ]
     },
     "execution_count": 5,
     "metadata": {},
     "output_type": "execute_result"
    }
   ],
   "source": [
    "df.describe()"
   ]
  },
  {
   "cell_type": "code",
   "execution_count": 6,
   "id": "de12870d-af3c-478f-bf80-c08f92745d5f",
   "metadata": {
    "colab": {
     "base_uri": "https://localhost:8080/"
    },
    "executionInfo": {
     "elapsed": 9,
     "status": "ok",
     "timestamp": 1722988055445,
     "user": {
      "displayName": "Paul Gálvez",
      "userId": "07569692290354937300"
     },
     "user_tz": 420
    },
    "id": "de12870d-af3c-478f-bf80-c08f92745d5f",
    "outputId": "59cb9868-3c87-474c-92e1-034eea20e252"
   },
   "outputs": [
    {
     "name": "stdout",
     "output_type": "stream",
     "text": [
      "La columna tienda no tiene datos perdidos.\n",
      "La columna Date no tiene datos perdidos.\n",
      "La columna ventas_semanales no tiene datos perdidos.\n",
      "La columna semana_festiva no tiene datos perdidos.\n",
      "La columna temperatura no tiene datos perdidos.\n",
      "La columna precio_combustible no tiene datos perdidos.\n",
      "La columna indice_precios_c no tiene datos perdidos.\n",
      "La columna tasa_desempleo no tiene datos perdidos.\n"
     ]
    }
   ],
   "source": [
    "# Crear un diccionario para almacenar los resultados\n",
    "missing_data_info = {}\n",
    "\n",
    "# Bucle para analizar cada columna\n",
    "for column in df.columns:\n",
    "    missing_count = df[column].isna().sum()  # Contador valores perdidos en la columna\n",
    "    missing_data_info[column] = missing_count\n",
    "\n",
    "# Mostrar los resultados\n",
    "for column, missing_count in missing_data_info.items():\n",
    "    if missing_count > 0:\n",
    "        print(f'La columna {column} tiene {missing_count} datos perdidos.')\n",
    "    else:\n",
    "        print(f'La columna {column} no tiene datos perdidos.')"
   ]
  },
  {
   "cell_type": "code",
   "execution_count": 7,
   "id": "ba5eb6e1-bd1d-44a8-9348-f7d786045426",
   "metadata": {
    "executionInfo": {
     "elapsed": 7,
     "status": "ok",
     "timestamp": 1722988055445,
     "user": {
      "displayName": "Paul Gálvez",
      "userId": "07569692290354937300"
     },
     "user_tz": 420
    },
    "id": "ba5eb6e1-bd1d-44a8-9348-f7d786045426"
   },
   "outputs": [],
   "source": [
    "#Convertimos nuestra columna semana_festiva a cualitativa\n",
    "df['semana_festiva'] = pd.Categorical(df['semana_festiva'], categories=[0, 1], ordered=False)"
   ]
  },
  {
   "cell_type": "code",
   "execution_count": 8,
   "id": "38314d01-98b4-44f1-8a2d-fcb1b170dc6a",
   "metadata": {
    "colab": {
     "base_uri": "https://localhost:8080/"
    },
    "executionInfo": {
     "elapsed": 6,
     "status": "ok",
     "timestamp": 1722988055653,
     "user": {
      "displayName": "Paul Gálvez",
      "userId": "07569692290354937300"
     },
     "user_tz": 420
    },
    "id": "38314d01-98b4-44f1-8a2d-fcb1b170dc6a",
    "outputId": "491abb3f-7d42-4ba3-816f-99c54d098383"
   },
   "outputs": [
    {
     "name": "stdout",
     "output_type": "stream",
     "text": [
      "tienda                         int64\n",
      "Date                  datetime64[ns]\n",
      "ventas_semanales             float64\n",
      "semana_festiva              category\n",
      "temperatura                  float64\n",
      "precio_combustible           float64\n",
      "indice_precios_c             float64\n",
      "tasa_desempleo               float64\n",
      "dtype: object\n",
      "      tienda       Date  ventas_semanales semana_festiva  temperatura  \\\n",
      "0          1 2010-02-05        1643690.90     No Festiva        42.31   \n",
      "1          1 2010-02-12        1641957.44        Festiva        38.51   \n",
      "2          1 2010-02-19        1611968.17     No Festiva        39.93   \n",
      "3          1 2010-02-26        1409727.59     No Festiva        46.63   \n",
      "4          1 2010-03-05        1554806.68     No Festiva        46.50   \n",
      "...      ...        ...               ...            ...          ...   \n",
      "6430      45 2012-09-28         713173.95     No Festiva        64.88   \n",
      "6431      45 2012-10-05         733455.07     No Festiva        64.89   \n",
      "6432      45 2012-10-12         734464.36     No Festiva        54.47   \n",
      "6433      45 2012-10-19         718125.53     No Festiva        56.47   \n",
      "6434      45 2012-10-26         760281.43     No Festiva        58.85   \n",
      "\n",
      "      precio_combustible  indice_precios_c  tasa_desempleo  \n",
      "0                  2.572        211.096358           8.106  \n",
      "1                  2.548        211.242170           8.106  \n",
      "2                  2.514        211.289143           8.106  \n",
      "3                  2.561        211.319643           8.106  \n",
      "4                  2.625        211.350143           8.106  \n",
      "...                  ...               ...             ...  \n",
      "6430               3.997        192.013558           8.684  \n",
      "6431               3.985        192.170412           8.667  \n",
      "6432               4.000        192.327265           8.667  \n",
      "6433               3.969        192.330854           8.667  \n",
      "6434               3.882        192.308899           8.667  \n",
      "\n",
      "[6435 rows x 8 columns]\n"
     ]
    }
   ],
   "source": [
    "#Le damos nombres descriptivos\n",
    "df['semana_festiva'] = df['semana_festiva'].cat.rename_categories({0: 'No Festiva', 1: 'Festiva'})\n",
    "# Convierte la columna 'Date' a tipo datetime\n",
    "df['Date'] = pd.to_datetime(df['Date'], format='%d-%m-%Y')\n",
    "\n",
    "# Verifica la conversión\n",
    "print(df.dtypes)\n",
    "print(df)"
   ]
  },
  {
   "cell_type": "code",
   "execution_count": 9,
   "id": "93f2b671-8c36-43d0-8d97-40a370bbdf61",
   "metadata": {
    "colab": {
     "base_uri": "https://localhost:8080/"
    },
    "executionInfo": {
     "elapsed": 5,
     "status": "ok",
     "timestamp": 1722988055653,
     "user": {
      "displayName": "Paul Gálvez",
      "userId": "07569692290354937300"
     },
     "user_tz": 420
    },
    "id": "93f2b671-8c36-43d0-8d97-40a370bbdf61",
    "outputId": "77766488-9b70-4a33-ab63-5fb9f33c8126"
   },
   "outputs": [
    {
     "name": "stdout",
     "output_type": "stream",
     "text": [
      "La columna tienda tiene 0 outliers.\n",
      "La columna ventas_semanales tiene 34 outliers.\n",
      "La columna temperatura tiene 3 outliers.\n",
      "La columna precio_combustible tiene 0 outliers.\n",
      "La columna indice_precios_c tiene 0 outliers.\n",
      "La columna tasa_desempleo tiene 481 outliers.\n"
     ]
    }
   ],
   "source": [
    "# Identificar las columnas cuantitativas\n",
    "quantitative_columns = df.select_dtypes(include=['float64', 'int64'])\n",
    "\n",
    "# Crear un diccionario para almacenar los resultados de los outliers\n",
    "outliers_info = {}\n",
    "\n",
    "# Bucle para analizar cada columna cuantitativa\n",
    "for column in quantitative_columns:\n",
    "    Q1 = df[column].quantile(0.25)\n",
    "    Q3 = df[column].quantile(0.75)\n",
    "    IQR = Q3 - Q1\n",
    "    lower_bound = Q1 - 1.5 * IQR\n",
    "    upper_bound = Q3 + 1.5 * IQR\n",
    "\n",
    "    # Identificar outliers\n",
    "    outliers = df[(df[column] < lower_bound) | (df[column] > upper_bound)]\n",
    "    outliers_count = outliers.shape[0]\n",
    "    outliers_info[column] = outliers_count\n",
    "\n",
    "# Mostrar los resultados\n",
    "for column, outliers_count in outliers_info.items():\n",
    "    print(f'La columna {column} tiene {outliers_count} outliers.')"
   ]
  },
  {
   "cell_type": "code",
   "execution_count": 10,
   "id": "c1354ddd-0275-4b03-a7cc-b85289893b69",
   "metadata": {
    "colab": {
     "base_uri": "https://localhost:8080/",
     "height": 688
    },
    "executionInfo": {
     "elapsed": 2481,
     "status": "ok",
     "timestamp": 1722988058131,
     "user": {
      "displayName": "Paul Gálvez",
      "userId": "07569692290354937300"
     },
     "user_tz": 420
    },
    "id": "c1354ddd-0275-4b03-a7cc-b85289893b69",
    "outputId": "47db8b8f-f88e-46bc-ac80-6ef74fd9a325"
   },
   "outputs": [
    {
     "data": {
      "image/png": "[encoded data removed]",
      "text/plain": [
       "<Figure size 1500x1000 with 6 Axes>"
      ]
     },
     "metadata": {},
     "output_type": "display_data"
    }
   ],
   "source": [
    "# Configura el tamaño del gráfico\n",
    "plt.figure(figsize=(15, 10))\n",
    "\n",
    "# Itera sobre cada columna numérica y crea un histograma\n",
    "for i, col in enumerate(quantitative_columns.columns):\n",
    "    plt.subplot(len(quantitative_columns.columns) // 3 + 1, 3, i + 1)\n",
    "    sns.histplot(quantitative_columns[col], kde=True)\n",
    "    plt.title(f'Distribución de {col}')\n",
    "    plt.xlabel('')\n",
    "    plt.ylabel('')\n",
    "\n",
    "# Ajusta el layout\n",
    "plt.tight_layout()\n",
    "\n",
    "# Muestra el gráfico\n",
    "plt.show()"
   ]
  },
  {
   "cell_type": "code",
   "execution_count": 11,
   "id": "1c170073-aa80-49b3-9cd7-78e87b5fc7f6",
   "metadata": {
    "colab": {
     "base_uri": "https://localhost:8080/",
     "height": 238
    },
    "executionInfo": {
     "elapsed": 22,
     "status": "ok",
     "timestamp": 1722988058131,
     "user": {
      "displayName": "Paul Gálvez",
      "userId": "07569692290354937300"
     },
     "user_tz": 420
    },
    "id": "1c170073-aa80-49b3-9cd7-78e87b5fc7f6",
    "outputId": "9646907a-8eb1-450e-ca27-1fafb3d62de4"
   },
   "outputs": [
    {
     "data": {
      "text/html": [
       "<style type=\"text/css\">\n",
       "#T_d84ef_row0_col0, #T_d84ef_row1_col1, #T_d84ef_row2_col2, #T_d84ef_row3_col3, #T_d84ef_row4_col4, #T_d84ef_row5_col5 {\n",
       "  background-color: #b40426;\n",
       "  color: #f1f1f1;\n",
       "}\n",
       "#T_d84ef_row0_col1, #T_d84ef_row1_col0, #T_d84ef_row1_col2, #T_d84ef_row4_col3, #T_d84ef_row4_col5, #T_d84ef_row5_col4 {\n",
       "  background-color: #3b4cc0;\n",
       "  color: #f1f1f1;\n",
       "}\n",
       "#T_d84ef_row0_col2 {\n",
       "  background-color: #455cce;\n",
       "  color: #f1f1f1;\n",
       "}\n",
       "#T_d84ef_row0_col3, #T_d84ef_row3_col2, #T_d84ef_row4_col1 {\n",
       "  background-color: #7a9df8;\n",
       "  color: #f1f1f1;\n",
       "}\n",
       "#T_d84ef_row0_col4 {\n",
       "  background-color: #506bda;\n",
       "  color: #f1f1f1;\n",
       "}\n",
       "#T_d84ef_row0_col5 {\n",
       "  background-color: #c1d4f4;\n",
       "  color: #000000;\n",
       "}\n",
       "#T_d84ef_row1_col3, #T_d84ef_row5_col2 {\n",
       "  background-color: #6b8df0;\n",
       "  color: #f1f1f1;\n",
       "}\n",
       "#T_d84ef_row1_col4 {\n",
       "  background-color: #7396f5;\n",
       "  color: #f1f1f1;\n",
       "}\n",
       "#T_d84ef_row1_col5 {\n",
       "  background-color: #6a8bef;\n",
       "  color: #f1f1f1;\n",
       "}\n",
       "#T_d84ef_row2_col0 {\n",
       "  background-color: #86a9fc;\n",
       "  color: #f1f1f1;\n",
       "}\n",
       "#T_d84ef_row2_col1, #T_d84ef_row3_col5 {\n",
       "  background-color: #7da0f9;\n",
       "  color: #f1f1f1;\n",
       "}\n",
       "#T_d84ef_row2_col3 {\n",
       "  background-color: #94b6ff;\n",
       "  color: #000000;\n",
       "}\n",
       "#T_d84ef_row2_col4 {\n",
       "  background-color: #b6cefa;\n",
       "  color: #000000;\n",
       "}\n",
       "#T_d84ef_row2_col5 {\n",
       "  background-color: #a2c1ff;\n",
       "  color: #000000;\n",
       "}\n",
       "#T_d84ef_row3_col0 {\n",
       "  background-color: #9dbdff;\n",
       "  color: #000000;\n",
       "}\n",
       "#T_d84ef_row3_col1 {\n",
       "  background-color: #90b2fe;\n",
       "  color: #000000;\n",
       "}\n",
       "#T_d84ef_row3_col4 {\n",
       "  background-color: #5977e3;\n",
       "  color: #f1f1f1;\n",
       "}\n",
       "#T_d84ef_row4_col0 {\n",
       "  background-color: #5875e1;\n",
       "  color: #f1f1f1;\n",
       "}\n",
       "#T_d84ef_row4_col2 {\n",
       "  background-color: #84a7fc;\n",
       "  color: #f1f1f1;\n",
       "}\n",
       "#T_d84ef_row5_col0 {\n",
       "  background-color: #c6d6f1;\n",
       "  color: #000000;\n",
       "}\n",
       "#T_d84ef_row5_col1 {\n",
       "  background-color: #7093f3;\n",
       "  color: #f1f1f1;\n",
       "}\n",
       "#T_d84ef_row5_col3 {\n",
       "  background-color: #5e7de7;\n",
       "  color: #f1f1f1;\n",
       "}\n",
       "</style>\n",
       "<table id=\"T_d84ef\">\n",
       "  <thead>\n",
       "    <tr>\n",
       "      <th class=\"blank level0\" >&nbsp;</th>\n",
       "      <th id=\"T_d84ef_level0_col0\" class=\"col_heading level0 col0\" >tienda</th>\n",
       "      <th id=\"T_d84ef_level0_col1\" class=\"col_heading level0 col1\" >ventas_semanales</th>\n",
       "      <th id=\"T_d84ef_level0_col2\" class=\"col_heading level0 col2\" >temperatura</th>\n",
       "      <th id=\"T_d84ef_level0_col3\" class=\"col_heading level0 col3\" >precio_combustible</th>\n",
       "      <th id=\"T_d84ef_level0_col4\" class=\"col_heading level0 col4\" >indice_precios_c</th>\n",
       "      <th id=\"T_d84ef_level0_col5\" class=\"col_heading level0 col5\" >tasa_desempleo</th>\n",
       "    </tr>\n",
       "  </thead>\n",
       "  <tbody>\n",
       "    <tr>\n",
       "      <th id=\"T_d84ef_level0_row0\" class=\"row_heading level0 row0\" >tienda</th>\n",
       "      <td id=\"T_d84ef_row0_col0\" class=\"data row0 col0\" >1.000000</td>\n",
       "      <td id=\"T_d84ef_row0_col1\" class=\"data row0 col1\" >-0.335332</td>\n",
       "      <td id=\"T_d84ef_row0_col2\" class=\"data row0 col2\" >-0.022659</td>\n",
       "      <td id=\"T_d84ef_row0_col3\" class=\"data row0 col3\" >0.060023</td>\n",
       "      <td id=\"T_d84ef_row0_col4\" class=\"data row0 col4\" >-0.209492</td>\n",
       "      <td id=\"T_d84ef_row0_col5\" class=\"data row0 col5\" >0.223531</td>\n",
       "    </tr>\n",
       "    <tr>\n",
       "      <th id=\"T_d84ef_level0_row1\" class=\"row_heading level0 row1\" >ventas_semanales</th>\n",
       "      <td id=\"T_d84ef_row1_col0\" class=\"data row1 col0\" >-0.335332</td>\n",
       "      <td id=\"T_d84ef_row1_col1\" class=\"data row1 col1\" >1.000000</td>\n",
       "      <td id=\"T_d84ef_row1_col2\" class=\"data row1 col2\" >-0.063810</td>\n",
       "      <td id=\"T_d84ef_row1_col3\" class=\"data row1 col3\" >0.009464</td>\n",
       "      <td id=\"T_d84ef_row1_col4\" class=\"data row1 col4\" >-0.072634</td>\n",
       "      <td id=\"T_d84ef_row1_col5\" class=\"data row1 col5\" >-0.106176</td>\n",
       "    </tr>\n",
       "    <tr>\n",
       "      <th id=\"T_d84ef_level0_row2\" class=\"row_heading level0 row2\" >temperatura</th>\n",
       "      <td id=\"T_d84ef_row2_col0\" class=\"data row2 col0\" >-0.022659</td>\n",
       "      <td id=\"T_d84ef_row2_col1\" class=\"data row2 col1\" >-0.063810</td>\n",
       "      <td id=\"T_d84ef_row2_col2\" class=\"data row2 col2\" >1.000000</td>\n",
       "      <td id=\"T_d84ef_row2_col3\" class=\"data row2 col3\" >0.144982</td>\n",
       "      <td id=\"T_d84ef_row2_col4\" class=\"data row2 col4\" >0.176888</td>\n",
       "      <td id=\"T_d84ef_row2_col5\" class=\"data row2 col5\" >0.101158</td>\n",
       "    </tr>\n",
       "    <tr>\n",
       "      <th id=\"T_d84ef_level0_row3\" class=\"row_heading level0 row3\" >precio_combustible</th>\n",
       "      <td id=\"T_d84ef_row3_col0\" class=\"data row3 col0\" >0.060023</td>\n",
       "      <td id=\"T_d84ef_row3_col1\" class=\"data row3 col1\" >0.009464</td>\n",
       "      <td id=\"T_d84ef_row3_col2\" class=\"data row3 col2\" >0.144982</td>\n",
       "      <td id=\"T_d84ef_row3_col3\" class=\"data row3 col3\" >1.000000</td>\n",
       "      <td id=\"T_d84ef_row3_col4\" class=\"data row3 col4\" >-0.170642</td>\n",
       "      <td id=\"T_d84ef_row3_col5\" class=\"data row3 col5\" >-0.034684</td>\n",
       "    </tr>\n",
       "    <tr>\n",
       "      <th id=\"T_d84ef_level0_row4\" class=\"row_heading level0 row4\" >indice_precios_c</th>\n",
       "      <td id=\"T_d84ef_row4_col0\" class=\"data row4 col0\" >-0.209492</td>\n",
       "      <td id=\"T_d84ef_row4_col1\" class=\"data row4 col1\" >-0.072634</td>\n",
       "      <td id=\"T_d84ef_row4_col2\" class=\"data row4 col2\" >0.176888</td>\n",
       "      <td id=\"T_d84ef_row4_col3\" class=\"data row4 col3\" >-0.170642</td>\n",
       "      <td id=\"T_d84ef_row4_col4\" class=\"data row4 col4\" >1.000000</td>\n",
       "      <td id=\"T_d84ef_row4_col5\" class=\"data row4 col5\" >-0.302020</td>\n",
       "    </tr>\n",
       "    <tr>\n",
       "      <th id=\"T_d84ef_level0_row5\" class=\"row_heading level0 row5\" >tasa_desempleo</th>\n",
       "      <td id=\"T_d84ef_row5_col0\" class=\"data row5 col0\" >0.223531</td>\n",
       "      <td id=\"T_d84ef_row5_col1\" class=\"data row5 col1\" >-0.106176</td>\n",
       "      <td id=\"T_d84ef_row5_col2\" class=\"data row5 col2\" >0.101158</td>\n",
       "      <td id=\"T_d84ef_row5_col3\" class=\"data row5 col3\" >-0.034684</td>\n",
       "      <td id=\"T_d84ef_row5_col4\" class=\"data row5 col4\" >-0.302020</td>\n",
       "      <td id=\"T_d84ef_row5_col5\" class=\"data row5 col5\" >1.000000</td>\n",
       "    </tr>\n",
       "  </tbody>\n",
       "</table>\n"
      ],
      "text/plain": [
       "<pandas.io.formats.style.Styler at 0x188a9fedd30>"
      ]
     },
     "execution_count": 11,
     "metadata": {},
     "output_type": "execute_result"
    }
   ],
   "source": [
    "#Matriz de correlación entre los datos numéricos\n",
    "quantitative_columns.corr().style.background_gradient(cmap='coolwarm')"
   ]
  },
  {
   "cell_type": "code",
   "execution_count": 12,
   "id": "06fc70d1-b9bb-4166-967b-3f3da8e38337",
   "metadata": {
    "colab": {
     "base_uri": "https://localhost:8080/"
    },
    "executionInfo": {
     "elapsed": 20,
     "status": "ok",
     "timestamp": 1722988058131,
     "user": {
      "displayName": "Paul Gálvez",
      "userId": "07569692290354937300"
     },
     "user_tz": 420
    },
    "id": "06fc70d1-b9bb-4166-967b-3f3da8e38337",
    "outputId": "81663eda-1106-4286-8b35-a98c93e5c28e"
   },
   "outputs": [
    {
     "name": "stdout",
     "output_type": "stream",
     "text": [
      "   tienda       Date  ventas_semanales  temperatura  precio_combustible  \\\n",
      "0       1 2010-02-05        1643690.90        42.31               2.572   \n",
      "1       1 2010-02-12        1641957.44        38.51               2.548   \n",
      "2       1 2010-02-19        1611968.17        39.93               2.514   \n",
      "3       1 2010-02-26        1409727.59        46.63               2.561   \n",
      "4       1 2010-03-05        1554806.68        46.50               2.625   \n",
      "\n",
      "   indice_precios_c  tasa_desempleo  semana_festiva_Festiva  \n",
      "0        211.096358           8.106                   False  \n",
      "1        211.242170           8.106                    True  \n",
      "2        211.289143           8.106                   False  \n",
      "3        211.319643           8.106                   False  \n",
      "4        211.350143           8.106                   False  \n"
     ]
    }
   ],
   "source": [
    "#Recodificamos nuestra variable categórica: semana_festiva\n",
    "# Convertir la columna categórica 'semana_festiva' en variables dummy\n",
    "df = pd.get_dummies(df, columns=['semana_festiva'], drop_first=True)\n",
    "\n",
    "# Verificar el resultado\n",
    "print(df.head(5))"
   ]
  },
  {
   "cell_type": "code",
   "execution_count": 13,
   "id": "52fc9458-7083-402d-8319-c15e7e15519f",
   "metadata": {
    "executionInfo": {
     "elapsed": 17,
     "status": "ok",
     "timestamp": 1722988058131,
     "user": {
      "displayName": "Paul Gálvez",
      "userId": "07569692290354937300"
     },
     "user_tz": 420
    },
    "id": "52fc9458-7083-402d-8319-c15e7e15519f"
   },
   "outputs": [],
   "source": [
    "df=df.set_index(['Date', 'tienda'])"
   ]
  },
  {
   "cell_type": "code",
   "execution_count": 14,
   "id": "c85d05c3-9852-4ed4-8605-a68abc398962",
   "metadata": {
    "executionInfo": {
     "elapsed": 16,
     "status": "ok",
     "timestamp": 1722988058131,
     "user": {
      "displayName": "Paul Gálvez",
      "userId": "07569692290354937300"
     },
     "user_tz": 420
    },
    "id": "c85d05c3-9852-4ed4-8605-a68abc398962"
   },
   "outputs": [],
   "source": [
    "fecha = df.index.get_level_values('Date').to_list()\n",
    "df['fecha'] = pd.Categorical(fecha)"
   ]
  },
  {
   "cell_type": "code",
   "execution_count": 15,
   "id": "d82691b6-1f56-40f3-84f8-6c6a8b742d2f",
   "metadata": {
    "colab": {
     "base_uri": "https://localhost:8080/",
     "height": 455
    },
    "executionInfo": {
     "elapsed": 231,
     "status": "ok",
     "timestamp": 1722988058346,
     "user": {
      "displayName": "Paul Gálvez",
      "userId": "07569692290354937300"
     },
     "user_tz": 420
    },
    "id": "d82691b6-1f56-40f3-84f8-6c6a8b742d2f",
    "outputId": "7fa734c4-dac9-451f-b970-91d3697832ec"
   },
   "outputs": [
    {
     "data": {
      "text/html": [
       "<div>\n",
       "<style scoped>\n",
       "    .dataframe tbody tr th:only-of-type {\n",
       "        vertical-align: middle;\n",
       "    }\n",
       "\n",
       "    .dataframe tbody tr th {\n",
       "        vertical-align: top;\n",
       "    }\n",
       "\n",
       "    .dataframe thead th {\n",
       "        text-align: right;\n",
       "    }\n",
       "</style>\n",
       "<table border=\"1\" class=\"dataframe\">\n",
       "  <thead>\n",
       "    <tr style=\"text-align: right;\">\n",
       "      <th></th>\n",
       "      <th></th>\n",
       "      <th>ventas_semanales</th>\n",
       "      <th>temperatura</th>\n",
       "      <th>precio_combustible</th>\n",
       "      <th>indice_precios_c</th>\n",
       "      <th>tasa_desempleo</th>\n",
       "      <th>semana_festiva_Festiva</th>\n",
       "      <th>fecha</th>\n",
       "    </tr>\n",
       "    <tr>\n",
       "      <th>Date</th>\n",
       "      <th>tienda</th>\n",
       "      <th></th>\n",
       "      <th></th>\n",
       "      <th></th>\n",
       "      <th></th>\n",
       "      <th></th>\n",
       "      <th></th>\n",
       "      <th></th>\n",
       "    </tr>\n",
       "  </thead>\n",
       "  <tbody>\n",
       "    <tr>\n",
       "      <th>2010-02-05</th>\n",
       "      <th>1</th>\n",
       "      <td>1643690.90</td>\n",
       "      <td>42.31</td>\n",
       "      <td>2.572</td>\n",
       "      <td>211.096358</td>\n",
       "      <td>8.106</td>\n",
       "      <td>False</td>\n",
       "      <td>2010-02-05</td>\n",
       "    </tr>\n",
       "    <tr>\n",
       "      <th>2010-02-12</th>\n",
       "      <th>1</th>\n",
       "      <td>1641957.44</td>\n",
       "      <td>38.51</td>\n",
       "      <td>2.548</td>\n",
       "      <td>211.242170</td>\n",
       "      <td>8.106</td>\n",
       "      <td>True</td>\n",
       "      <td>2010-02-12</td>\n",
       "    </tr>\n",
       "    <tr>\n",
       "      <th>2010-02-19</th>\n",
       "      <th>1</th>\n",
       "      <td>1611968.17</td>\n",
       "      <td>39.93</td>\n",
       "      <td>2.514</td>\n",
       "      <td>211.289143</td>\n",
       "      <td>8.106</td>\n",
       "      <td>False</td>\n",
       "      <td>2010-02-19</td>\n",
       "    </tr>\n",
       "    <tr>\n",
       "      <th>2010-02-26</th>\n",
       "      <th>1</th>\n",
       "      <td>1409727.59</td>\n",
       "      <td>46.63</td>\n",
       "      <td>2.561</td>\n",
       "      <td>211.319643</td>\n",
       "      <td>8.106</td>\n",
       "      <td>False</td>\n",
       "      <td>2010-02-26</td>\n",
       "    </tr>\n",
       "    <tr>\n",
       "      <th>2010-03-05</th>\n",
       "      <th>1</th>\n",
       "      <td>1554806.68</td>\n",
       "      <td>46.50</td>\n",
       "      <td>2.625</td>\n",
       "      <td>211.350143</td>\n",
       "      <td>8.106</td>\n",
       "      <td>False</td>\n",
       "      <td>2010-03-05</td>\n",
       "    </tr>\n",
       "    <tr>\n",
       "      <th>...</th>\n",
       "      <th>...</th>\n",
       "      <td>...</td>\n",
       "      <td>...</td>\n",
       "      <td>...</td>\n",
       "      <td>...</td>\n",
       "      <td>...</td>\n",
       "      <td>...</td>\n",
       "      <td>...</td>\n",
       "    </tr>\n",
       "    <tr>\n",
       "      <th>2012-09-28</th>\n",
       "      <th>45</th>\n",
       "      <td>713173.95</td>\n",
       "      <td>64.88</td>\n",
       "      <td>3.997</td>\n",
       "      <td>192.013558</td>\n",
       "      <td>8.684</td>\n",
       "      <td>False</td>\n",
       "      <td>2012-09-28</td>\n",
       "    </tr>\n",
       "    <tr>\n",
       "      <th>2012-10-05</th>\n",
       "      <th>45</th>\n",
       "      <td>733455.07</td>\n",
       "      <td>64.89</td>\n",
       "      <td>3.985</td>\n",
       "      <td>192.170412</td>\n",
       "      <td>8.667</td>\n",
       "      <td>False</td>\n",
       "      <td>2012-10-05</td>\n",
       "    </tr>\n",
       "    <tr>\n",
       "      <th>2012-10-12</th>\n",
       "      <th>45</th>\n",
       "      <td>734464.36</td>\n",
       "      <td>54.47</td>\n",
       "      <td>4.000</td>\n",
       "      <td>192.327265</td>\n",
       "      <td>8.667</td>\n",
       "      <td>False</td>\n",
       "      <td>2012-10-12</td>\n",
       "    </tr>\n",
       "    <tr>\n",
       "      <th>2012-10-19</th>\n",
       "      <th>45</th>\n",
       "      <td>718125.53</td>\n",
       "      <td>56.47</td>\n",
       "      <td>3.969</td>\n",
       "      <td>192.330854</td>\n",
       "      <td>8.667</td>\n",
       "      <td>False</td>\n",
       "      <td>2012-10-19</td>\n",
       "    </tr>\n",
       "    <tr>\n",
       "      <th>2012-10-26</th>\n",
       "      <th>45</th>\n",
       "      <td>760281.43</td>\n",
       "      <td>58.85</td>\n",
       "      <td>3.882</td>\n",
       "      <td>192.308899</td>\n",
       "      <td>8.667</td>\n",
       "      <td>False</td>\n",
       "      <td>2012-10-26</td>\n",
       "    </tr>\n",
       "  </tbody>\n",
       "</table>\n",
       "<p>6435 rows × 7 columns</p>\n",
       "</div>"
      ],
      "text/plain": [
       "                   ventas_semanales  temperatura  precio_combustible  \\\n",
       "Date       tienda                                                      \n",
       "2010-02-05 1             1643690.90        42.31               2.572   \n",
       "2010-02-12 1             1641957.44        38.51               2.548   \n",
       "2010-02-19 1             1611968.17        39.93               2.514   \n",
       "2010-02-26 1             1409727.59        46.63               2.561   \n",
       "2010-03-05 1             1554806.68        46.50               2.625   \n",
       "...                             ...          ...                 ...   \n",
       "2012-09-28 45             713173.95        64.88               3.997   \n",
       "2012-10-05 45             733455.07        64.89               3.985   \n",
       "2012-10-12 45             734464.36        54.47               4.000   \n",
       "2012-10-19 45             718125.53        56.47               3.969   \n",
       "2012-10-26 45             760281.43        58.85               3.882   \n",
       "\n",
       "                   indice_precios_c  tasa_desempleo  semana_festiva_Festiva  \\\n",
       "Date       tienda                                                             \n",
       "2010-02-05 1             211.096358           8.106                   False   \n",
       "2010-02-12 1             211.242170           8.106                    True   \n",
       "2010-02-19 1             211.289143           8.106                   False   \n",
       "2010-02-26 1             211.319643           8.106                   False   \n",
       "2010-03-05 1             211.350143           8.106                   False   \n",
       "...                             ...             ...                     ...   \n",
       "2012-09-28 45            192.013558           8.684                   False   \n",
       "2012-10-05 45            192.170412           8.667                   False   \n",
       "2012-10-12 45            192.327265           8.667                   False   \n",
       "2012-10-19 45            192.330854           8.667                   False   \n",
       "2012-10-26 45            192.308899           8.667                   False   \n",
       "\n",
       "                       fecha  \n",
       "Date       tienda             \n",
       "2010-02-05 1      2010-02-05  \n",
       "2010-02-12 1      2010-02-12  \n",
       "2010-02-19 1      2010-02-19  \n",
       "2010-02-26 1      2010-02-26  \n",
       "2010-03-05 1      2010-03-05  \n",
       "...                      ...  \n",
       "2012-09-28 45     2012-09-28  \n",
       "2012-10-05 45     2012-10-05  \n",
       "2012-10-12 45     2012-10-12  \n",
       "2012-10-19 45     2012-10-19  \n",
       "2012-10-26 45     2012-10-26  \n",
       "\n",
       "[6435 rows x 7 columns]"
      ]
     },
     "execution_count": 15,
     "metadata": {},
     "output_type": "execute_result"
    }
   ],
   "source": [
    "df"
   ]
  },
  {
   "cell_type": "code",
   "execution_count": 16,
   "id": "5dfbfeb4-a3b1-4e3e-b49f-ca064e1af19e",
   "metadata": {
    "colab": {
     "base_uri": "https://localhost:8080/"
    },
    "executionInfo": {
     "elapsed": 9,
     "status": "ok",
     "timestamp": 1722988058346,
     "user": {
      "displayName": "Paul Gálvez",
      "userId": "07569692290354937300"
     },
     "user_tz": 420
    },
    "id": "5dfbfeb4-a3b1-4e3e-b49f-ca064e1af19e",
    "outputId": "3f751d69-b5b7-4a3b-e22c-a8b213349eee"
   },
   "outputs": [
    {
     "data": {
      "text/plain": [
       "Date        tienda\n",
       "2010-02-05  1        2010-02-05\n",
       "2010-02-12  1        2010-02-12\n",
       "2010-02-19  1        2010-02-19\n",
       "2010-02-26  1        2010-02-26\n",
       "2010-03-05  1        2010-03-05\n",
       "                        ...    \n",
       "2012-09-28  45       2012-09-28\n",
       "2012-10-05  45       2012-10-05\n",
       "2012-10-12  45       2012-10-12\n",
       "2012-10-19  45       2012-10-19\n",
       "2012-10-26  45       2012-10-26\n",
       "Name: fecha, Length: 6435, dtype: category\n",
       "Categories (143, datetime64[ns]): [2010-02-05, 2010-02-12, 2010-02-19, 2010-02-26, ..., 2012-10-05, 2012-10-12, 2012-10-19, 2012-10-26]"
      ]
     },
     "execution_count": 16,
     "metadata": {},
     "output_type": "execute_result"
    }
   ],
   "source": [
    "df['fecha']"
   ]
  },
  {
   "cell_type": "code",
   "execution_count": 18,
   "id": "18b76785-7f0e-4b3e-a756-9f6df70cc89a",
   "metadata": {
    "executionInfo": {
     "elapsed": 1246,
     "status": "ok",
     "timestamp": 1722988066658,
     "user": {
      "displayName": "Paul Gálvez",
      "userId": "07569692290354937300"
     },
     "user_tz": 420
    },
    "id": "18b76785-7f0e-4b3e-a756-9f6df70cc89a"
   },
   "outputs": [],
   "source": [
    "#Importamos librerías para realizar Pooled OLS\n",
    "from linearmodels import PooledOLS\n",
    "import statsmodels.api as sm"
   ]
  },
  {
   "cell_type": "code",
   "execution_count": 19,
   "id": "97f9fb70-b35c-4100-85b1-9f99267d4574",
   "metadata": {
    "colab": {
     "base_uri": "https://localhost:8080/"
    },
    "executionInfo": {
     "elapsed": 6,
     "status": "ok",
     "timestamp": 1722988066658,
     "user": {
      "displayName": "Paul Gálvez",
      "userId": "07569692290354937300"
     },
     "user_tz": 420
    },
    "id": "97f9fb70-b35c-4100-85b1-9f99267d4574",
    "outputId": "a55e9053-95bc-4bcc-893d-c4f89cc22c25"
   },
   "outputs": [
    {
     "name": "stdout",
     "output_type": "stream",
     "text": [
      "                   const  semana_festiva_Festiva  temperatura  \\\n",
      "Date       tienda                                               \n",
      "2010-02-05 1         1.0                   False        42.31   \n",
      "2010-02-12 1         1.0                    True        38.51   \n",
      "2010-02-19 1         1.0                   False        39.93   \n",
      "2010-02-26 1         1.0                   False        46.63   \n",
      "2010-03-05 1         1.0                   False        46.50   \n",
      "\n",
      "                   precio_combustible  indice_precios_c  tasa_desempleo  \n",
      "Date       tienda                                                        \n",
      "2010-02-05 1                    2.572        211.096358           8.106  \n",
      "2010-02-12 1                    2.548        211.242170           8.106  \n",
      "2010-02-19 1                    2.514        211.289143           8.106  \n",
      "2010-02-26 1                    2.561        211.319643           8.106  \n",
      "2010-03-05 1                    2.625        211.350143           8.106  \n"
     ]
    }
   ],
   "source": [
    "#Definimos nuestra variable dependiente\n",
    "X = df[['semana_festiva_Festiva', 'temperatura', 'precio_combustible', 'indice_precios_c', 'tasa_desempleo']]\n",
    "X = sm.add_constant(X)\n",
    "print(X.head())\n",
    "\n",
    "y = df.ventas_semanales"
   ]
  },
  {
   "cell_type": "code",
   "execution_count": 20,
   "id": "e40de875-c30a-4372-a897-5c54ca2c70f3",
   "metadata": {
    "colab": {
     "base_uri": "https://localhost:8080/"
    },
    "executionInfo": {
     "elapsed": 5,
     "status": "ok",
     "timestamp": 1722988066658,
     "user": {
      "displayName": "Paul Gálvez",
      "userId": "07569692290354937300"
     },
     "user_tz": 420
    },
    "id": "e40de875-c30a-4372-a897-5c54ca2c70f3",
    "outputId": "fd7762d0-fa6e-40cb-e6fe-4f5fffd883d4",
    "scrolled": true
   },
   "outputs": [
    {
     "name": "stdout",
     "output_type": "stream",
     "text": [
      "Date        tienda\n",
      "2010-02-05  1         1643690.90\n",
      "2010-02-12  1         1641957.44\n",
      "2010-02-19  1         1611968.17\n",
      "2010-02-26  1         1409727.59\n",
      "2010-03-05  1         1554806.68\n",
      "Name: ventas_semanales, dtype: float64\n"
     ]
    }
   ],
   "source": [
    "print(y.head())"
   ]
  },
  {
   "cell_type": "code",
   "execution_count": 22,
   "id": "f0e3e491",
   "metadata": {
    "executionInfo": {
     "elapsed": 11,
     "status": "ok",
     "timestamp": 1722988072803,
     "user": {
      "displayName": "Paul Gálvez",
      "userId": "07569692290354937300"
     },
     "user_tz": 420
    },
    "id": "f0e3e491"
   },
   "outputs": [],
   "source": [
    "#Importamos librerías para realizar Pooled OLS\n",
    "from linearmodels import PooledOLS\n",
    "import statsmodels.api as sm"
   ]
  },
  {
   "cell_type": "code",
   "execution_count": 23,
   "id": "ecec5017",
   "metadata": {
    "colab": {
     "base_uri": "https://localhost:8080/"
    },
    "executionInfo": {
     "elapsed": 10,
     "status": "ok",
     "timestamp": 1722988072803,
     "user": {
      "displayName": "Paul Gálvez",
      "userId": "07569692290354937300"
     },
     "user_tz": 420
    },
    "id": "ecec5017",
    "outputId": "772cf61a-1c56-4248-f62f-d480e472170e"
   },
   "outputs": [
    {
     "name": "stdout",
     "output_type": "stream",
     "text": [
      "                   const  semana_festiva_Festiva  temperatura  \\\n",
      "Date       tienda                                               \n",
      "2010-02-05 1         1.0                   False        42.31   \n",
      "2010-02-12 1         1.0                    True        38.51   \n",
      "2010-02-19 1         1.0                   False        39.93   \n",
      "2010-02-26 1         1.0                   False        46.63   \n",
      "2010-03-05 1         1.0                   False        46.50   \n",
      "\n",
      "                   precio_combustible  indice_precios_c  tasa_desempleo  \n",
      "Date       tienda                                                        \n",
      "2010-02-05 1                    2.572        211.096358           8.106  \n",
      "2010-02-12 1                    2.548        211.242170           8.106  \n",
      "2010-02-19 1                    2.514        211.289143           8.106  \n",
      "2010-02-26 1                    2.561        211.319643           8.106  \n",
      "2010-03-05 1                    2.625        211.350143           8.106  \n"
     ]
    }
   ],
   "source": [
    "#Definimos nuestra variable dependiente\n",
    "X = df[['semana_festiva_Festiva', 'temperatura', 'precio_combustible', 'indice_precios_c', 'tasa_desempleo']]\n",
    "X = sm.add_constant(X)\n",
    "print(X.head())\n",
    "\n",
    "y = df.ventas_semanales"
   ]
  },
  {
   "cell_type": "code",
   "execution_count": 24,
   "id": "7ee4853e",
   "metadata": {
    "colab": {
     "base_uri": "https://localhost:8080/"
    },
    "executionInfo": {
     "elapsed": 10,
     "status": "ok",
     "timestamp": 1722988072804,
     "user": {
      "displayName": "Paul Gálvez",
      "userId": "07569692290354937300"
     },
     "user_tz": 420
    },
    "id": "7ee4853e",
    "outputId": "8382b4ed-903e-46e9-a533-0a3a4c672b94"
   },
   "outputs": [
    {
     "name": "stdout",
     "output_type": "stream",
     "text": [
      "Date        tienda\n",
      "2010-02-05  1         1643690.90\n",
      "2010-02-12  1         1641957.44\n",
      "2010-02-19  1         1611968.17\n",
      "2010-02-26  1         1409727.59\n",
      "2010-03-05  1         1554806.68\n",
      "Name: ventas_semanales, dtype: float64\n"
     ]
    }
   ],
   "source": [
    "print(y.head())"
   ]
  },
  {
   "cell_type": "code",
   "execution_count": 25,
   "id": "ac9af8ab",
   "metadata": {
    "executionInfo": {
     "elapsed": 6,
     "status": "ok",
     "timestamp": 1722988072804,
     "user": {
      "displayName": "Paul Gálvez",
      "userId": "07569692290354937300"
     },
     "user_tz": 420
    },
    "id": "ac9af8ab"
   },
   "outputs": [],
   "source": [
    "#modelo sin entrenamiento"
   ]
  },
  {
   "cell_type": "code",
   "execution_count": 26,
   "id": "4ba2c729",
   "metadata": {
    "executionInfo": {
     "elapsed": 820,
     "status": "ok",
     "timestamp": 1722988073619,
     "user": {
      "displayName": "Paul Gálvez",
      "userId": "07569692290354937300"
     },
     "user_tz": 420
    },
    "id": "4ba2c729"
   },
   "outputs": [],
   "source": [
    "modelo = PooledOLS(y, X)\n",
    "resultados_pooled_OLS1 = modelo.fit(cov_type='clustered', cluster_entity=True)"
   ]
  },
  {
   "cell_type": "code",
   "execution_count": 27,
   "id": "b2c9e56b",
   "metadata": {
    "executionInfo": {
     "elapsed": 11,
     "status": "ok",
     "timestamp": 1722988073620,
     "user": {
      "displayName": "Paul Gálvez",
      "userId": "07569692290354937300"
     },
     "user_tz": 420
    },
    "id": "b2c9e56b"
   },
   "outputs": [],
   "source": [
    "# Store values for checking homoskedasticity graphically\n",
    "predicciones_pooled_OLS11 = resultados_pooled_OLS1.predict().fitted_values\n",
    "residuos_pooled_OLS11 = resultados_pooled_OLS1.resids"
   ]
  },
  {
   "cell_type": "code",
   "execution_count": 28,
   "id": "4309c82b",
   "metadata": {
    "colab": {
     "base_uri": "https://localhost:8080/"
    },
    "executionInfo": {
     "elapsed": 10,
     "status": "ok",
     "timestamp": 1722988073620,
     "user": {
      "displayName": "Paul Gálvez",
      "userId": "07569692290354937300"
     },
     "user_tz": 420
    },
    "id": "4309c82b",
    "outputId": "5aed1376-71bd-4ab0-e3d0-3e885958e5db"
   },
   "outputs": [
    {
     "name": "stdout",
     "output_type": "stream",
     "text": [
      "                          PooledOLS Estimation Summary                          \n",
      "================================================================================\n",
      "Dep. Variable:       ventas_semanales   R-squared:                        0.0254\n",
      "Estimator:                  PooledOLS   R-squared (Between):              0.0386\n",
      "No. Observations:                6435   R-squared (Within):               0.0248\n",
      "Date:                Wed, Aug 07 2024   R-squared (Overall):              0.0254\n",
      "Time:                        14:07:51   Log-likelihood                -9.427e+04\n",
      "Cov. Estimator:             Clustered                                           \n",
      "                                        F-statistic:                      33.570\n",
      "Entities:                         143   P-value                           0.0000\n",
      "Avg Obs:                       45.000   Distribution:                  F(5,6429)\n",
      "Min Obs:                       45.000                                           \n",
      "Max Obs:                       45.000   F-statistic (robust):             729.27\n",
      "                                        P-value                           0.0000\n",
      "Time periods:                      45   Distribution:                  F(5,6429)\n",
      "Avg Obs:                       143.00                                           \n",
      "Min Obs:                       143.00                                           \n",
      "Max Obs:                       143.00                                           \n",
      "                                                                                \n",
      "                                   Parameter Estimates                                    \n",
      "==========================================================================================\n",
      "                        Parameter  Std. Err.     T-stat    P-value    Lower CI    Upper CI\n",
      "------------------------------------------------------------------------------------------\n",
      "const                   1.727e+06  6.544e+04     26.382     0.0000   1.598e+06   1.855e+06\n",
      "semana_festiva_Festiva  7.489e+04  5.944e+04     1.2599     0.2077  -4.163e+04   1.914e+05\n",
      "temperatura               -724.17     633.34    -1.1434     0.2529     -1965.7      517.38\n",
      "precio_combustible     -1.017e+04  1.203e+04    -0.8454     0.3979  -3.374e+04   1.341e+04\n",
      "indice_precios_c          -1598.9     54.045    -29.584     0.0000     -1704.8     -1492.9\n",
      "tasa_desempleo         -4.155e+04     1313.9    -31.626     0.0000  -4.413e+04  -3.898e+04\n",
      "==========================================================================================\n"
     ]
    }
   ],
   "source": [
    "print(resultados_pooled_OLS1)"
   ]
  },
  {
   "cell_type": "code",
   "execution_count": 29,
   "id": "16718988",
   "metadata": {
    "colab": {
     "base_uri": "https://localhost:8080/"
    },
    "executionInfo": {
     "elapsed": 9,
     "status": "ok",
     "timestamp": 1722988073620,
     "user": {
      "displayName": "Paul Gálvez",
      "userId": "07569692290354937300"
     },
     "user_tz": 420
    },
    "id": "16718988",
    "outputId": "720017e2-4c9b-495e-cd92-e2816328d70c"
   },
   "outputs": [
    {
     "name": "stdout",
     "output_type": "stream",
     "text": [
      "                   const  indice_precios_c  tasa_desempleo\n",
      "Date       tienda                                         \n",
      "2010-02-05 1         1.0        211.096358           8.106\n",
      "2010-02-12 1         1.0        211.242170           8.106\n",
      "2010-02-19 1         1.0        211.289143           8.106\n",
      "2010-02-26 1         1.0        211.319643           8.106\n",
      "2010-03-05 1         1.0        211.350143           8.106\n"
     ]
    }
   ],
   "source": [
    "#Eliminamos las variables que no son significativas: Definimos nuestra variable dependiente\n",
    "X = df[['indice_precios_c', 'tasa_desempleo']]\n",
    "X = sm.add_constant(X)\n",
    "print(X.head())\n",
    "\n",
    "y = df.ventas_semanales\n"
   ]
  },
  {
   "cell_type": "code",
   "execution_count": 30,
   "id": "986635bd",
   "metadata": {
    "executionInfo": {
     "elapsed": 8,
     "status": "ok",
     "timestamp": 1722988073942,
     "user": {
      "displayName": "Paul Gálvez",
      "userId": "07569692290354937300"
     },
     "user_tz": 420
    },
    "id": "986635bd"
   },
   "outputs": [],
   "source": [
    "modelo = PooledOLS(y, X)\n",
    "resultados_pooled_OLS1 = modelo.fit(cov_type='clustered', cluster_entity=True)"
   ]
  },
  {
   "cell_type": "code",
   "execution_count": 31,
   "id": "33fb51e3",
   "metadata": {
    "executionInfo": {
     "elapsed": 8,
     "status": "ok",
     "timestamp": 1722988073942,
     "user": {
      "displayName": "Paul Gálvez",
      "userId": "07569692290354937300"
     },
     "user_tz": 420
    },
    "id": "33fb51e3"
   },
   "outputs": [],
   "source": [
    "# Store values for checking homoskedasticity graphically\n",
    "predicciones_pooled_OLS11 = resultados_pooled_OLS1.predict().fitted_values\n",
    "residuos_pooled_OLS11 = resultados_pooled_OLS1.resids"
   ]
  },
  {
   "cell_type": "code",
   "execution_count": 32,
   "id": "f82f08c8",
   "metadata": {
    "colab": {
     "base_uri": "https://localhost:8080/"
    },
    "executionInfo": {
     "elapsed": 8,
     "status": "ok",
     "timestamp": 1722988073943,
     "user": {
      "displayName": "Paul Gálvez",
      "userId": "07569692290354937300"
     },
     "user_tz": 420
    },
    "id": "f82f08c8",
    "outputId": "300d9e6b-fe81-4155-fef8-25a9613361ec"
   },
   "outputs": [
    {
     "name": "stdout",
     "output_type": "stream",
     "text": [
      "                          PooledOLS Estimation Summary                          \n",
      "================================================================================\n",
      "Dep. Variable:       ventas_semanales   R-squared:                        0.0233\n",
      "Estimator:                  PooledOLS   R-squared (Between):             -0.0197\n",
      "No. Observations:                6435   R-squared (Within):               0.0254\n",
      "Date:                Wed, Aug 07 2024   R-squared (Overall):              0.0233\n",
      "Time:                        14:07:51   Log-likelihood                -9.428e+04\n",
      "Cov. Estimator:             Clustered                                           \n",
      "                                        F-statistic:                      76.842\n",
      "Entities:                         143   P-value                           0.0000\n",
      "Avg Obs:                       45.000   Distribution:                  F(2,6432)\n",
      "Min Obs:                       45.000                                           \n",
      "Max Obs:                       45.000   F-statistic (robust):             944.44\n",
      "                                        P-value                           0.0000\n",
      "Time periods:                      45   Distribution:                  F(2,6432)\n",
      "Avg Obs:                       143.00                                           \n",
      "Min Obs:                       143.00                                           \n",
      "Max Obs:                       143.00                                           \n",
      "                                                                                \n",
      "                                Parameter Estimates                                 \n",
      "====================================================================================\n",
      "                  Parameter  Std. Err.     T-stat    P-value    Lower CI    Upper CI\n",
      "------------------------------------------------------------------------------------\n",
      "const              1.67e+06  2.263e+04     73.783     0.0000   1.625e+06   1.714e+06\n",
      "indice_precios_c    -1652.1     42.506    -38.868     0.0000     -1735.4     -1568.8\n",
      "tasa_desempleo   -4.241e+04     1437.2    -29.511     0.0000  -4.523e+04  -3.959e+04\n",
      "====================================================================================\n"
     ]
    }
   ],
   "source": [
    "print(resultados_pooled_OLS1)"
   ]
  },
  {
   "cell_type": "code",
   "execution_count": 33,
   "id": "3e8400d2",
   "metadata": {
    "executionInfo": {
     "elapsed": 5,
     "status": "ok",
     "timestamp": 1722988073943,
     "user": {
      "displayName": "Paul Gálvez",
      "userId": "07569692290354937300"
     },
     "user_tz": 420
    },
    "id": "3e8400d2"
   },
   "outputs": [],
   "source": [
    "#modelo con entrenamiento"
   ]
  },
  {
   "cell_type": "code",
   "execution_count": 34,
   "id": "3bb91838",
   "metadata": {
    "executionInfo": {
     "elapsed": 223,
     "status": "ok",
     "timestamp": 1722988074161,
     "user": {
      "displayName": "Paul Gálvez",
      "userId": "07569692290354937300"
     },
     "user_tz": 420
    },
    "id": "3bb91838"
   },
   "outputs": [],
   "source": [
    "# Dividir los datos en conjuntos de entrenamiento y prueba\n",
    "from sklearn.model_selection import train_test_split\n",
    "X_train, X_test, y_train, y_test = train_test_split(X, y, test_size=0.2, random_state=42)"
   ]
  },
  {
   "cell_type": "code",
   "execution_count": 35,
   "id": "45eb2277",
   "metadata": {
    "executionInfo": {
     "elapsed": 197,
     "status": "ok",
     "timestamp": 1722988074356,
     "user": {
      "displayName": "Paul Gálvez",
      "userId": "07569692290354937300"
     },
     "user_tz": 420
    },
    "id": "45eb2277"
   },
   "outputs": [],
   "source": [
    "#Creamos modelo Pooled OLS\n",
    "modelo1 = PooledOLS(y_train, X_train)\n",
    "resultados_pooled_OLS = modelo1.fit(cov_type='clustered', cluster_entity=True)"
   ]
  },
  {
   "cell_type": "code",
   "execution_count": 36,
   "id": "80502e87",
   "metadata": {
    "executionInfo": {
     "elapsed": 3,
     "status": "ok",
     "timestamp": 1722988074357,
     "user": {
      "displayName": "Paul Gálvez",
      "userId": "07569692290354937300"
     },
     "user_tz": 420
    },
    "id": "80502e87"
   },
   "outputs": [],
   "source": [
    "# Store values for checking homoskedasticity graphically\n",
    "predicciones_pooled_OLS = resultados_pooled_OLS.predict().fitted_values\n",
    "residuos_pooled_OLS = resultados_pooled_OLS.resids"
   ]
  },
  {
   "cell_type": "code",
   "execution_count": 37,
   "id": "37986acc",
   "metadata": {
    "colab": {
     "base_uri": "https://localhost:8080/"
    },
    "executionInfo": {
     "elapsed": 3,
     "status": "ok",
     "timestamp": 1722988074357,
     "user": {
      "displayName": "Paul Gálvez",
      "userId": "07569692290354937300"
     },
     "user_tz": 420
    },
    "id": "37986acc",
    "outputId": "4cc91fa9-776a-42fc-f1d2-002a6f5b769f"
   },
   "outputs": [
    {
     "name": "stdout",
     "output_type": "stream",
     "text": [
      "                          PooledOLS Estimation Summary                          \n",
      "================================================================================\n",
      "Dep. Variable:       ventas_semanales   R-squared:                        0.0249\n",
      "Estimator:                  PooledOLS   R-squared (Between):             -0.0056\n",
      "No. Observations:                5148   R-squared (Within):               0.0266\n",
      "Date:                Wed, Aug 07 2024   R-squared (Overall):              0.0249\n",
      "Time:                        14:07:52   Log-likelihood                -7.541e+04\n",
      "Cov. Estimator:             Clustered                                           \n",
      "                                        F-statistic:                      65.659\n",
      "Entities:                         143   P-value                           0.0000\n",
      "Avg Obs:                       36.000   Distribution:                  F(2,5145)\n",
      "Min Obs:                       28.000                                           \n",
      "Max Obs:                       42.000   F-statistic (robust):             214.25\n",
      "                                        P-value                           0.0000\n",
      "Time periods:                      45   Distribution:                  F(2,5145)\n",
      "Avg Obs:                       114.40                                           \n",
      "Min Obs:                       106.00                                           \n",
      "Max Obs:                       124.00                                           \n",
      "                                                                                \n",
      "                                Parameter Estimates                                 \n",
      "====================================================================================\n",
      "                  Parameter  Std. Err.     T-stat    P-value    Lower CI    Upper CI\n",
      "------------------------------------------------------------------------------------\n",
      "const             1.684e+06  3.802e+04     44.278     0.0000   1.609e+06   1.758e+06\n",
      "indice_precios_c    -1657.7     123.05    -13.472     0.0000     -1899.0     -1416.5\n",
      "tasa_desempleo    -4.43e+04     2304.9    -19.219     0.0000  -4.882e+04  -3.978e+04\n",
      "====================================================================================\n"
     ]
    }
   ],
   "source": [
    "print(resultados_pooled_OLS.summary)"
   ]
  },
  {
   "cell_type": "code",
   "execution_count": 38,
   "id": "fb7dfdcc",
   "metadata": {
    "colab": {
     "base_uri": "https://localhost:8080/",
     "height": 472
    },
    "executionInfo": {
     "elapsed": 973,
     "status": "ok",
     "timestamp": 1722988075328,
     "user": {
      "displayName": "Paul Gálvez",
      "userId": "07569692290354937300"
     },
     "user_tz": 420
    },
    "id": "fb7dfdcc",
    "outputId": "ef8e61c0-6ffe-4286-9f4e-1a4579bc4ee3"
   },
   "outputs": [
    {
     "data": {
      "image/png": "[encoded data removed]",
      "text/plain": [
       "<Figure size 640x480 with 1 Axes>"
      ]
     },
     "metadata": {},
     "output_type": "display_data"
    }
   ],
   "source": [
    "#VERIFICACIÓN DE SUPUESTOS\n",
    "# 1. Homocedasticidad\n",
    "#Graficar los residuos\n",
    "plt.plot(residuos_pooled_OLS.tolist() )\n",
    "plt.xlabel('Observación')\n",
    "plt.ylabel('Residuo')\n",
    "plt.title('Gráfico de residuos')\n",
    "plt.show()"
   ]
  },
  {
   "cell_type": "code",
   "execution_count": 39,
   "id": "bc33d1db",
   "metadata": {
    "colab": {
     "base_uri": "https://localhost:8080/",
     "height": 483
    },
    "executionInfo": {
     "elapsed": 1390,
     "status": "ok",
     "timestamp": 1722988076715,
     "user": {
      "displayName": "Paul Gálvez",
      "userId": "07569692290354937300"
     },
     "user_tz": 420
    },
    "id": "bc33d1db",
    "outputId": "2c06e110-f541-43cc-8acb-70513b484c32",
    "scrolled": true
   },
   "outputs": [
    {
     "data": {
      "image/png": "[encoded data removed]",
      "text/plain": [
       "<Figure size 640x480 with 1 Axes>"
      ]
     },
     "metadata": {},
     "output_type": "display_data"
    }
   ],
   "source": [
    "#Medimos homocedasticidad: nube de puntos\n",
    "fig, ax = plt.subplots()\n",
    "ax.scatter(predicciones_pooled_OLS, residuos_pooled_OLS)\n",
    "ax.axhline(0, color = 'r', ls = '--')\n",
    "ax.set_xlabel('Predicciones', fontsize = 15)\n",
    "ax.set_ylabel('Residuos', fontsize = 15)\n",
    "ax.set_title('Evaluación de homocedasticidad', fontsize = 18)\n",
    "plt.show()"
   ]
  },
  {
   "cell_type": "code",
   "execution_count": 40,
   "id": "1ce8a6f8",
   "metadata": {
    "executionInfo": {
     "elapsed": 9,
     "status": "ok",
     "timestamp": 1722988076715,
     "user": {
      "displayName": "Paul Gálvez",
      "userId": "07569692290354937300"
     },
     "user_tz": 420
    },
    "id": "1ce8a6f8"
   },
   "outputs": [],
   "source": [
    "#Importamos librería para medir homocedasticidad por medio del test breusch pagan\n",
    "from statsmodels.stats.diagnostic import het_breuschpagan"
   ]
  },
  {
   "cell_type": "code",
   "execution_count": 41,
   "id": "CrlpM_uvyhSc",
   "metadata": {
    "executionInfo": {
     "elapsed": 8,
     "status": "ok",
     "timestamp": 1722988076715,
     "user": {
      "displayName": "Paul Gálvez",
      "userId": "07569692290354937300"
     },
     "user_tz": 420
    },
    "id": "CrlpM_uvyhSc"
   },
   "outputs": [],
   "source": [
    "from statsmodels.stats.stattools import durbin_watson"
   ]
  },
  {
   "cell_type": "code",
   "execution_count": 42,
   "id": "95c1edac",
   "metadata": {
    "executionInfo": {
     "elapsed": 8,
     "status": "ok",
     "timestamp": 1722988076715,
     "user": {
      "displayName": "Paul Gálvez",
      "userId": "07569692290354937300"
     },
     "user_tz": 420
    },
    "id": "95c1edac"
   },
   "outputs": [],
   "source": [
    "pooled_OLS_df = pd.concat([df, residuos_pooled_OLS], axis=1)\n",
    "pooled_OLS_df = pooled_OLS_df.drop(['fecha'], axis = 1)\n",
    "X_ = sm.tools.tools.add_constant(df['tasa_desempleo'])"
   ]
  },
  {
   "cell_type": "code",
   "execution_count": 43,
   "id": "d8c3ac29",
   "metadata": {
    "colab": {
     "base_uri": "https://localhost:8080/"
    },
    "executionInfo": {
     "elapsed": 337,
     "status": "ok",
     "timestamp": 1722988077046,
     "user": {
      "displayName": "Paul Gálvez",
      "userId": "07569692290354937300"
     },
     "user_tz": 420
    },
    "id": "d8c3ac29",
    "outputId": "d6282e06-7a94-4ad7-fe99-d57de64ee19e"
   },
   "outputs": [
    {
     "data": {
      "text/plain": [
       "Date        tienda\n",
       "2010-09-17  8        -210947.678669\n",
       "2011-03-11  7        -415643.406643\n",
       "2010-11-12  42       -486421.181948\n",
       "2011-08-26  15       -506599.262145\n",
       "2011-08-19  42       -576952.221208\n",
       "                          ...      \n",
       "2011-02-18  27        600003.028160\n",
       "2010-12-03  37       -451178.084570\n",
       "2011-08-05  37       -455348.847210\n",
       "2011-12-30  38       -554317.000323\n",
       "2010-02-19  7        -463349.041881\n",
       "Name: residual, Length: 5148, dtype: float64"
      ]
     },
     "execution_count": 43,
     "metadata": {},
     "output_type": "execute_result"
    }
   ],
   "source": [
    "residuos_pooled_OLS"
   ]
  },
  {
   "cell_type": "code",
   "execution_count": 44,
   "id": "0655239f",
   "metadata": {
    "colab": {
     "base_uri": "https://localhost:8080/"
    },
    "executionInfo": {
     "elapsed": 11,
     "status": "ok",
     "timestamp": 1722988077046,
     "user": {
      "displayName": "Paul Gálvez",
      "userId": "07569692290354937300"
     },
     "user_tz": 420
    },
    "id": "0655239f",
    "outputId": "14610ff7-018d-4775-a6da-8ea1f09197e2"
   },
   "outputs": [
    {
     "name": "stdout",
     "output_type": "stream",
     "text": [
      "{'LM Statistic': np.float64(59.81311010869209), 'LM-Test p-value': np.float64(1.0274203586726246e-13), 'F-Statistic': np.float64(30.24048233375664), 'F-Test p-value': np.float64(8.776441259394817e-14)}\n"
     ]
    }
   ],
   "source": [
    "#Test de Breusch Pagan\n",
    "# Breusch-Pagan test\n",
    "exog = sm.add_constant(X_train)\n",
    "bp_test = het_breuschpagan(resultados_pooled_OLS.resids, exog)\n",
    "labels = ['LM Statistic', 'LM-Test p-value', 'F-Statistic', 'F-Test p-value']\n",
    "print(dict(zip(labels, bp_test)))"
   ]
  },
  {
   "cell_type": "code",
   "execution_count": 45,
   "id": "4e479002",
   "metadata": {
    "executionInfo": {
     "elapsed": 9,
     "status": "ok",
     "timestamp": 1722988077046,
     "user": {
      "displayName": "Paul Gálvez",
      "userId": "07569692290354937300"
     },
     "user_tz": 420
    },
    "id": "4e479002"
   },
   "outputs": [],
   "source": [
    "#2. NO HAYA AUTO-CORRELACIÓN\n",
    "#Importamos librería para verificar que no haya auto-correlación por medio del test de durbin watson\n",
    "from statsmodels.stats.stattools import durbin_watson"
   ]
  },
  {
   "cell_type": "code",
   "execution_count": 46,
   "id": "OSc8T2oMtV66",
   "metadata": {
    "colab": {
     "base_uri": "https://localhost:8080/",
     "height": 455
    },
    "executionInfo": {
     "elapsed": 10,
     "status": "ok",
     "timestamp": 1722988077047,
     "user": {
      "displayName": "Paul Gálvez",
      "userId": "07569692290354937300"
     },
     "user_tz": 420
    },
    "id": "OSc8T2oMtV66",
    "outputId": "f9091970-072a-43e6-dbb4-fc311cfd00bc"
   },
   "outputs": [
    {
     "data": {
      "text/html": [
       "<div>\n",
       "<style scoped>\n",
       "    .dataframe tbody tr th:only-of-type {\n",
       "        vertical-align: middle;\n",
       "    }\n",
       "\n",
       "    .dataframe tbody tr th {\n",
       "        vertical-align: top;\n",
       "    }\n",
       "\n",
       "    .dataframe thead th {\n",
       "        text-align: right;\n",
       "    }\n",
       "</style>\n",
       "<table border=\"1\" class=\"dataframe\">\n",
       "  <thead>\n",
       "    <tr style=\"text-align: right;\">\n",
       "      <th></th>\n",
       "      <th></th>\n",
       "      <th>ventas_semanales</th>\n",
       "      <th>temperatura</th>\n",
       "      <th>precio_combustible</th>\n",
       "      <th>indice_precios_c</th>\n",
       "      <th>tasa_desempleo</th>\n",
       "      <th>semana_festiva_Festiva</th>\n",
       "      <th>residual</th>\n",
       "    </tr>\n",
       "    <tr>\n",
       "      <th>Date</th>\n",
       "      <th>tienda</th>\n",
       "      <th></th>\n",
       "      <th></th>\n",
       "      <th></th>\n",
       "      <th></th>\n",
       "      <th></th>\n",
       "      <th></th>\n",
       "      <th></th>\n",
       "    </tr>\n",
       "  </thead>\n",
       "  <tbody>\n",
       "    <tr>\n",
       "      <th>2010-02-05</th>\n",
       "      <th>1</th>\n",
       "      <td>1643690.90</td>\n",
       "      <td>42.31</td>\n",
       "      <td>2.572</td>\n",
       "      <td>211.096358</td>\n",
       "      <td>8.106</td>\n",
       "      <td>False</td>\n",
       "      <td>669103.153860</td>\n",
       "    </tr>\n",
       "    <tr>\n",
       "      <th>2010-02-12</th>\n",
       "      <th>1</th>\n",
       "      <td>1641957.44</td>\n",
       "      <td>38.51</td>\n",
       "      <td>2.548</td>\n",
       "      <td>211.242170</td>\n",
       "      <td>8.106</td>\n",
       "      <td>True</td>\n",
       "      <td>667611.409978</td>\n",
       "    </tr>\n",
       "    <tr>\n",
       "      <th>2010-02-19</th>\n",
       "      <th>1</th>\n",
       "      <td>1611968.17</td>\n",
       "      <td>39.93</td>\n",
       "      <td>2.514</td>\n",
       "      <td>211.289143</td>\n",
       "      <td>8.106</td>\n",
       "      <td>False</td>\n",
       "      <td>637700.008648</td>\n",
       "    </tr>\n",
       "    <tr>\n",
       "      <th>2010-02-26</th>\n",
       "      <th>1</th>\n",
       "      <td>1409727.59</td>\n",
       "      <td>46.63</td>\n",
       "      <td>2.561</td>\n",
       "      <td>211.319643</td>\n",
       "      <td>8.106</td>\n",
       "      <td>False</td>\n",
       "      <td>435509.989383</td>\n",
       "    </tr>\n",
       "    <tr>\n",
       "      <th>2010-03-05</th>\n",
       "      <th>1</th>\n",
       "      <td>1554806.68</td>\n",
       "      <td>46.50</td>\n",
       "      <td>2.625</td>\n",
       "      <td>211.350143</td>\n",
       "      <td>8.106</td>\n",
       "      <td>False</td>\n",
       "      <td>580639.640117</td>\n",
       "    </tr>\n",
       "    <tr>\n",
       "      <th>...</th>\n",
       "      <th>...</th>\n",
       "      <td>...</td>\n",
       "      <td>...</td>\n",
       "      <td>...</td>\n",
       "      <td>...</td>\n",
       "      <td>...</td>\n",
       "      <td>...</td>\n",
       "      <td>...</td>\n",
       "    </tr>\n",
       "    <tr>\n",
       "      <th>2012-09-28</th>\n",
       "      <th>45</th>\n",
       "      <td>713173.95</td>\n",
       "      <td>64.88</td>\n",
       "      <td>3.997</td>\n",
       "      <td>192.013558</td>\n",
       "      <td>8.684</td>\n",
       "      <td>False</td>\n",
       "      <td>-267443.688576</td>\n",
       "    </tr>\n",
       "    <tr>\n",
       "      <th>2012-10-05</th>\n",
       "      <th>45</th>\n",
       "      <td>733455.07</td>\n",
       "      <td>64.89</td>\n",
       "      <td>3.985</td>\n",
       "      <td>192.170412</td>\n",
       "      <td>8.667</td>\n",
       "      <td>False</td>\n",
       "      <td>NaN</td>\n",
       "    </tr>\n",
       "    <tr>\n",
       "      <th>2012-10-12</th>\n",
       "      <th>45</th>\n",
       "      <td>734464.36</td>\n",
       "      <td>54.47</td>\n",
       "      <td>4.000</td>\n",
       "      <td>192.327265</td>\n",
       "      <td>8.667</td>\n",
       "      <td>False</td>\n",
       "      <td>-246386.301500</td>\n",
       "    </tr>\n",
       "    <tr>\n",
       "      <th>2012-10-19</th>\n",
       "      <th>45</th>\n",
       "      <td>718125.53</td>\n",
       "      <td>56.47</td>\n",
       "      <td>3.969</td>\n",
       "      <td>192.330854</td>\n",
       "      <td>8.667</td>\n",
       "      <td>False</td>\n",
       "      <td>-262719.182243</td>\n",
       "    </tr>\n",
       "    <tr>\n",
       "      <th>2012-10-26</th>\n",
       "      <th>45</th>\n",
       "      <td>760281.43</td>\n",
       "      <td>58.85</td>\n",
       "      <td>3.882</td>\n",
       "      <td>192.308899</td>\n",
       "      <td>8.667</td>\n",
       "      <td>False</td>\n",
       "      <td>-220599.678180</td>\n",
       "    </tr>\n",
       "  </tbody>\n",
       "</table>\n",
       "<p>6435 rows × 7 columns</p>\n",
       "</div>"
      ],
      "text/plain": [
       "                   ventas_semanales  temperatura  precio_combustible  \\\n",
       "Date       tienda                                                      \n",
       "2010-02-05 1             1643690.90        42.31               2.572   \n",
       "2010-02-12 1             1641957.44        38.51               2.548   \n",
       "2010-02-19 1             1611968.17        39.93               2.514   \n",
       "2010-02-26 1             1409727.59        46.63               2.561   \n",
       "2010-03-05 1             1554806.68        46.50               2.625   \n",
       "...                             ...          ...                 ...   \n",
       "2012-09-28 45             713173.95        64.88               3.997   \n",
       "2012-10-05 45             733455.07        64.89               3.985   \n",
       "2012-10-12 45             734464.36        54.47               4.000   \n",
       "2012-10-19 45             718125.53        56.47               3.969   \n",
       "2012-10-26 45             760281.43        58.85               3.882   \n",
       "\n",
       "                   indice_precios_c  tasa_desempleo  semana_festiva_Festiva  \\\n",
       "Date       tienda                                                             \n",
       "2010-02-05 1             211.096358           8.106                   False   \n",
       "2010-02-12 1             211.242170           8.106                    True   \n",
       "2010-02-19 1             211.289143           8.106                   False   \n",
       "2010-02-26 1             211.319643           8.106                   False   \n",
       "2010-03-05 1             211.350143           8.106                   False   \n",
       "...                             ...             ...                     ...   \n",
       "2012-09-28 45            192.013558           8.684                   False   \n",
       "2012-10-05 45            192.170412           8.667                   False   \n",
       "2012-10-12 45            192.327265           8.667                   False   \n",
       "2012-10-19 45            192.330854           8.667                   False   \n",
       "2012-10-26 45            192.308899           8.667                   False   \n",
       "\n",
       "                        residual  \n",
       "Date       tienda                 \n",
       "2010-02-05 1       669103.153860  \n",
       "2010-02-12 1       667611.409978  \n",
       "2010-02-19 1       637700.008648  \n",
       "2010-02-26 1       435509.989383  \n",
       "2010-03-05 1       580639.640117  \n",
       "...                          ...  \n",
       "2012-09-28 45     -267443.688576  \n",
       "2012-10-05 45                NaN  \n",
       "2012-10-12 45     -246386.301500  \n",
       "2012-10-19 45     -262719.182243  \n",
       "2012-10-26 45     -220599.678180  \n",
       "\n",
       "[6435 rows x 7 columns]"
      ]
     },
     "execution_count": 46,
     "metadata": {},
     "output_type": "execute_result"
    }
   ],
   "source": [
    "pooled_OLS_df"
   ]
  },
  {
   "cell_type": "code",
   "execution_count": 47,
   "id": "TO6TOIOht7ac",
   "metadata": {
    "executionInfo": {
     "elapsed": 9,
     "status": "ok",
     "timestamp": 1722988077047,
     "user": {
      "displayName": "Paul Gálvez",
      "userId": "07569692290354937300"
     },
     "user_tz": 420
    },
    "id": "TO6TOIOht7ac"
   },
   "outputs": [],
   "source": [
    "pooled_OLS_df = pooled_OLS_df.dropna()"
   ]
  },
  {
   "cell_type": "code",
   "execution_count": 48,
   "id": "uEMbndQ1uEe1",
   "metadata": {
    "colab": {
     "base_uri": "https://localhost:8080/",
     "height": 455
    },
    "executionInfo": {
     "elapsed": 261,
     "status": "ok",
     "timestamp": 1722988077299,
     "user": {
      "displayName": "Paul Gálvez",
      "userId": "07569692290354937300"
     },
     "user_tz": 420
    },
    "id": "uEMbndQ1uEe1",
    "outputId": "2ebee1c2-c9a4-4066-b414-4bde288e1b76"
   },
   "outputs": [
    {
     "data": {
      "text/html": [
       "<div>\n",
       "<style scoped>\n",
       "    .dataframe tbody tr th:only-of-type {\n",
       "        vertical-align: middle;\n",
       "    }\n",
       "\n",
       "    .dataframe tbody tr th {\n",
       "        vertical-align: top;\n",
       "    }\n",
       "\n",
       "    .dataframe thead th {\n",
       "        text-align: right;\n",
       "    }\n",
       "</style>\n",
       "<table border=\"1\" class=\"dataframe\">\n",
       "  <thead>\n",
       "    <tr style=\"text-align: right;\">\n",
       "      <th></th>\n",
       "      <th></th>\n",
       "      <th>ventas_semanales</th>\n",
       "      <th>temperatura</th>\n",
       "      <th>precio_combustible</th>\n",
       "      <th>indice_precios_c</th>\n",
       "      <th>tasa_desempleo</th>\n",
       "      <th>semana_festiva_Festiva</th>\n",
       "      <th>residual</th>\n",
       "    </tr>\n",
       "    <tr>\n",
       "      <th>Date</th>\n",
       "      <th>tienda</th>\n",
       "      <th></th>\n",
       "      <th></th>\n",
       "      <th></th>\n",
       "      <th></th>\n",
       "      <th></th>\n",
       "      <th></th>\n",
       "      <th></th>\n",
       "    </tr>\n",
       "  </thead>\n",
       "  <tbody>\n",
       "    <tr>\n",
       "      <th>2010-02-05</th>\n",
       "      <th>1</th>\n",
       "      <td>1643690.90</td>\n",
       "      <td>42.31</td>\n",
       "      <td>2.572</td>\n",
       "      <td>211.096358</td>\n",
       "      <td>8.106</td>\n",
       "      <td>False</td>\n",
       "      <td>669103.153860</td>\n",
       "    </tr>\n",
       "    <tr>\n",
       "      <th>2010-02-12</th>\n",
       "      <th>1</th>\n",
       "      <td>1641957.44</td>\n",
       "      <td>38.51</td>\n",
       "      <td>2.548</td>\n",
       "      <td>211.242170</td>\n",
       "      <td>8.106</td>\n",
       "      <td>True</td>\n",
       "      <td>667611.409978</td>\n",
       "    </tr>\n",
       "    <tr>\n",
       "      <th>2010-02-19</th>\n",
       "      <th>1</th>\n",
       "      <td>1611968.17</td>\n",
       "      <td>39.93</td>\n",
       "      <td>2.514</td>\n",
       "      <td>211.289143</td>\n",
       "      <td>8.106</td>\n",
       "      <td>False</td>\n",
       "      <td>637700.008648</td>\n",
       "    </tr>\n",
       "    <tr>\n",
       "      <th>2010-02-26</th>\n",
       "      <th>1</th>\n",
       "      <td>1409727.59</td>\n",
       "      <td>46.63</td>\n",
       "      <td>2.561</td>\n",
       "      <td>211.319643</td>\n",
       "      <td>8.106</td>\n",
       "      <td>False</td>\n",
       "      <td>435509.989383</td>\n",
       "    </tr>\n",
       "    <tr>\n",
       "      <th>2010-03-05</th>\n",
       "      <th>1</th>\n",
       "      <td>1554806.68</td>\n",
       "      <td>46.50</td>\n",
       "      <td>2.625</td>\n",
       "      <td>211.350143</td>\n",
       "      <td>8.106</td>\n",
       "      <td>False</td>\n",
       "      <td>580639.640117</td>\n",
       "    </tr>\n",
       "    <tr>\n",
       "      <th>...</th>\n",
       "      <th>...</th>\n",
       "      <td>...</td>\n",
       "      <td>...</td>\n",
       "      <td>...</td>\n",
       "      <td>...</td>\n",
       "      <td>...</td>\n",
       "      <td>...</td>\n",
       "      <td>...</td>\n",
       "    </tr>\n",
       "    <tr>\n",
       "      <th>2012-09-14</th>\n",
       "      <th>45</th>\n",
       "      <td>702238.27</td>\n",
       "      <td>67.87</td>\n",
       "      <td>3.948</td>\n",
       "      <td>191.699850</td>\n",
       "      <td>8.684</td>\n",
       "      <td>False</td>\n",
       "      <td>-278899.410929</td>\n",
       "    </tr>\n",
       "    <tr>\n",
       "      <th>2012-09-28</th>\n",
       "      <th>45</th>\n",
       "      <td>713173.95</td>\n",
       "      <td>64.88</td>\n",
       "      <td>3.997</td>\n",
       "      <td>192.013558</td>\n",
       "      <td>8.684</td>\n",
       "      <td>False</td>\n",
       "      <td>-267443.688576</td>\n",
       "    </tr>\n",
       "    <tr>\n",
       "      <th>2012-10-12</th>\n",
       "      <th>45</th>\n",
       "      <td>734464.36</td>\n",
       "      <td>54.47</td>\n",
       "      <td>4.000</td>\n",
       "      <td>192.327265</td>\n",
       "      <td>8.667</td>\n",
       "      <td>False</td>\n",
       "      <td>-246386.301500</td>\n",
       "    </tr>\n",
       "    <tr>\n",
       "      <th>2012-10-19</th>\n",
       "      <th>45</th>\n",
       "      <td>718125.53</td>\n",
       "      <td>56.47</td>\n",
       "      <td>3.969</td>\n",
       "      <td>192.330854</td>\n",
       "      <td>8.667</td>\n",
       "      <td>False</td>\n",
       "      <td>-262719.182243</td>\n",
       "    </tr>\n",
       "    <tr>\n",
       "      <th>2012-10-26</th>\n",
       "      <th>45</th>\n",
       "      <td>760281.43</td>\n",
       "      <td>58.85</td>\n",
       "      <td>3.882</td>\n",
       "      <td>192.308899</td>\n",
       "      <td>8.667</td>\n",
       "      <td>False</td>\n",
       "      <td>-220599.678180</td>\n",
       "    </tr>\n",
       "  </tbody>\n",
       "</table>\n",
       "<p>5148 rows × 7 columns</p>\n",
       "</div>"
      ],
      "text/plain": [
       "                   ventas_semanales  temperatura  precio_combustible  \\\n",
       "Date       tienda                                                      \n",
       "2010-02-05 1             1643690.90        42.31               2.572   \n",
       "2010-02-12 1             1641957.44        38.51               2.548   \n",
       "2010-02-19 1             1611968.17        39.93               2.514   \n",
       "2010-02-26 1             1409727.59        46.63               2.561   \n",
       "2010-03-05 1             1554806.68        46.50               2.625   \n",
       "...                             ...          ...                 ...   \n",
       "2012-09-14 45             702238.27        67.87               3.948   \n",
       "2012-09-28 45             713173.95        64.88               3.997   \n",
       "2012-10-12 45             734464.36        54.47               4.000   \n",
       "2012-10-19 45             718125.53        56.47               3.969   \n",
       "2012-10-26 45             760281.43        58.85               3.882   \n",
       "\n",
       "                   indice_precios_c  tasa_desempleo  semana_festiva_Festiva  \\\n",
       "Date       tienda                                                             \n",
       "2010-02-05 1             211.096358           8.106                   False   \n",
       "2010-02-12 1             211.242170           8.106                    True   \n",
       "2010-02-19 1             211.289143           8.106                   False   \n",
       "2010-02-26 1             211.319643           8.106                   False   \n",
       "2010-03-05 1             211.350143           8.106                   False   \n",
       "...                             ...             ...                     ...   \n",
       "2012-09-14 45            191.699850           8.684                   False   \n",
       "2012-09-28 45            192.013558           8.684                   False   \n",
       "2012-10-12 45            192.327265           8.667                   False   \n",
       "2012-10-19 45            192.330854           8.667                   False   \n",
       "2012-10-26 45            192.308899           8.667                   False   \n",
       "\n",
       "                        residual  \n",
       "Date       tienda                 \n",
       "2010-02-05 1       669103.153860  \n",
       "2010-02-12 1       667611.409978  \n",
       "2010-02-19 1       637700.008648  \n",
       "2010-02-26 1       435509.989383  \n",
       "2010-03-05 1       580639.640117  \n",
       "...                          ...  \n",
       "2012-09-14 45     -278899.410929  \n",
       "2012-09-28 45     -267443.688576  \n",
       "2012-10-12 45     -246386.301500  \n",
       "2012-10-19 45     -262719.182243  \n",
       "2012-10-26 45     -220599.678180  \n",
       "\n",
       "[5148 rows x 7 columns]"
      ]
     },
     "execution_count": 48,
     "metadata": {},
     "output_type": "execute_result"
    }
   ],
   "source": [
    "pooled_OLS_df"
   ]
  },
  {
   "cell_type": "code",
   "execution_count": 49,
   "id": "jUThLSYXuHzB",
   "metadata": {
    "colab": {
     "base_uri": "https://localhost:8080/"
    },
    "executionInfo": {
     "elapsed": 8,
     "status": "ok",
     "timestamp": 1722988077299,
     "user": {
      "displayName": "Paul Gálvez",
      "userId": "07569692290354937300"
     },
     "user_tz": 420
    },
    "id": "jUThLSYXuHzB",
    "outputId": "2d159cb8-e32f-464e-a9c2-81471a91bc73"
   },
   "outputs": [
    {
     "name": "stdout",
     "output_type": "stream",
     "text": [
      "<class 'pandas.core.frame.DataFrame'>\n",
      "MultiIndex: 5148 entries, (Timestamp('2010-02-05 00:00:00'), np.int64(1)) to (Timestamp('2012-10-26 00:00:00'), np.int64(45))\n",
      "Data columns (total 7 columns):\n",
      " #   Column                  Non-Null Count  Dtype  \n",
      "---  ------                  --------------  -----  \n",
      " 0   ventas_semanales        5148 non-null   float64\n",
      " 1   temperatura             5148 non-null   float64\n",
      " 2   precio_combustible      5148 non-null   float64\n",
      " 3   indice_precios_c        5148 non-null   float64\n",
      " 4   tasa_desempleo          5148 non-null   float64\n",
      " 5   semana_festiva_Festiva  5148 non-null   bool   \n",
      " 6   residual                5148 non-null   float64\n",
      "dtypes: bool(1), float64(6)\n",
      "memory usage: 268.1 KB\n"
     ]
    }
   ],
   "source": [
    "pooled_OLS_df.info()"
   ]
  },
  {
   "cell_type": "code",
   "execution_count": 50,
   "id": "HeUVv_Aiuc4F",
   "metadata": {
    "colab": {
     "base_uri": "https://localhost:8080/"
    },
    "executionInfo": {
     "elapsed": 6,
     "status": "ok",
     "timestamp": 1722988077299,
     "user": {
      "displayName": "Paul Gálvez",
      "userId": "07569692290354937300"
     },
     "user_tz": 420
    },
    "id": "HeUVv_Aiuc4F",
    "outputId": "1d7b69fc-e36f-4008-cc6a-d0c027751cf3"
   },
   "outputs": [
    {
     "name": "stdout",
     "output_type": "stream",
     "text": [
      "count    5.148000e+03\n",
      "mean    -1.736732e-09\n",
      "std      5.564845e+05\n",
      "min     -9.348242e+05\n",
      "25%     -4.785316e+05\n",
      "50%     -1.147596e+05\n",
      "75%      3.919778e+05\n",
      "max      2.674769e+06\n",
      "Name: residual, dtype: float64\n"
     ]
    }
   ],
   "source": [
    "# Verificar los residuos\n",
    "print(pooled_OLS_df['residual'].describe())\n"
   ]
  },
  {
   "cell_type": "code",
   "execution_count": 51,
   "id": "-JOFPKTUx3ni",
   "metadata": {
    "colab": {
     "base_uri": "https://localhost:8080/"
    },
    "executionInfo": {
     "elapsed": 198,
     "status": "ok",
     "timestamp": 1722988695234,
     "user": {
      "displayName": "Paul Gálvez",
      "userId": "07569692290354937300"
     },
     "user_tz": 420
    },
    "id": "-JOFPKTUx3ni",
    "outputId": "b82cc3f1-384e-4fc2-8125-37c6ca7245a3"
   },
   "outputs": [
    {
     "name": "stdout",
     "output_type": "stream",
     "text": [
      "float64\n"
     ]
    }
   ],
   "source": [
    "print(pooled_OLS_df['residual'].dtype)"
   ]
  },
  {
   "cell_type": "code",
   "execution_count": 52,
   "id": "1IWDTJ9uu2V2",
   "metadata": {
    "colab": {
     "base_uri": "https://localhost:8080/"
    },
    "executionInfo": {
     "elapsed": 356,
     "status": "ok",
     "timestamp": 1722988765191,
     "user": {
      "displayName": "Paul Gálvez",
      "userId": "07569692290354937300"
     },
     "user_tz": 420
    },
    "id": "1IWDTJ9uu2V2",
    "outputId": "f0478f66-269d-4251-b44a-cf9845f04042"
   },
   "outputs": [
    {
     "name": "stdout",
     "output_type": "stream",
     "text": [
      "0\n"
     ]
    }
   ],
   "source": [
    "print(pooled_OLS_df['residual'].isna().sum())"
   ]
  },
  {
   "cell_type": "code",
   "execution_count": 53,
   "id": "YJzX3_XrxhxI",
   "metadata": {
    "colab": {
     "base_uri": "https://localhost:8080/"
    },
    "executionInfo": {
     "elapsed": 210,
     "status": "ok",
     "timestamp": 1722988767532,
     "user": {
      "displayName": "Paul Gálvez",
      "userId": "07569692290354937300"
     },
     "user_tz": 420
    },
    "id": "YJzX3_XrxhxI",
    "outputId": "68cb5a5e-b225-49fb-a165-55f42026f972"
   },
   "outputs": [
    {
     "data": {
      "text/plain": [
       "Date        tienda\n",
       "2010-02-05  1         669103.153860\n",
       "2010-02-12  1         667611.409978\n",
       "2010-02-19  1         637700.008648\n",
       "2010-02-26  1         435509.989383\n",
       "2010-03-05  1         580639.640117\n",
       "                          ...      \n",
       "2012-09-14  45       -278899.410929\n",
       "2012-09-28  45       -267443.688576\n",
       "2012-10-12  45       -246386.301500\n",
       "2012-10-19  45       -262719.182243\n",
       "2012-10-26  45       -220599.678180\n",
       "Name: residual, Length: 5148, dtype: float64"
      ]
     },
     "execution_count": 53,
     "metadata": {},
     "output_type": "execute_result"
    }
   ],
   "source": [
    "pooled_OLS_df['residual']"
   ]
  },
  {
   "cell_type": "code",
   "execution_count": 54,
   "id": "n6QpT7x7vDiM",
   "metadata": {
    "executionInfo": {
     "elapsed": 231,
     "status": "ok",
     "timestamp": 1722988776218,
     "user": {
      "displayName": "Paul Gálvez",
      "userId": "07569692290354937300"
     },
     "user_tz": 420
    },
    "id": "n6QpT7x7vDiM"
   },
   "outputs": [],
   "source": [
    "pooled_OLS_df['residual'] = pooled_OLS_df['residual'].astype(float)"
   ]
  },
  {
   "cell_type": "code",
   "execution_count": 55,
   "id": "f14a4182",
   "metadata": {
    "colab": {
     "base_uri": "https://localhost:8080/"
    },
    "executionInfo": {
     "elapsed": 229,
     "status": "ok",
     "timestamp": 1722988778227,
     "user": {
      "displayName": "Paul Gálvez",
      "userId": "07569692290354937300"
     },
     "user_tz": 420
    },
    "id": "f14a4182",
    "outputId": "f23b936a-133e-41f2-98af-d303ba8ffd93"
   },
   "outputs": [
    {
     "name": "stdout",
     "output_type": "stream",
     "text": [
      "0.0009247053339359469\n"
     ]
    }
   ],
   "source": [
    "durbin_watson = durbin_watson(pooled_OLS_df['indice_precios_c'])\n",
    "print(durbin_watson)"
   ]
  },
  {
   "cell_type": "code",
   "execution_count": 56,
   "id": "a75b7901",
   "metadata": {
    "executionInfo": {
     "elapsed": 1,
     "status": "ok",
     "timestamp": 1722988780879,
     "user": {
      "displayName": "Paul Gálvez",
      "userId": "07569692290354937300"
     },
     "user_tz": 420
    },
    "id": "a75b7901"
   },
   "outputs": [],
   "source": [
    "#modelos efectos fijos y_train, X_train"
   ]
  },
  {
   "cell_type": "code",
   "execution_count": 57,
   "id": "00efbbca",
   "metadata": {
    "executionInfo": {
     "elapsed": 205,
     "status": "ok",
     "timestamp": 1722988783394,
     "user": {
      "displayName": "Paul Gálvez",
      "userId": "07569692290354937300"
     },
     "user_tz": 420
    },
    "id": "00efbbca"
   },
   "outputs": [],
   "source": [
    "from linearmodels import PanelOLS"
   ]
  },
  {
   "cell_type": "code",
   "execution_count": 58,
   "id": "f0243d06",
   "metadata": {
    "executionInfo": {
     "elapsed": 192,
     "status": "ok",
     "timestamp": 1722988785331,
     "user": {
      "displayName": "Paul Gálvez",
      "userId": "07569692290354937300"
     },
     "user_tz": 420
    },
    "id": "f0243d06"
   },
   "outputs": [],
   "source": [
    "modelo_fe = PanelOLS(y_train, X_train, entity_effects = True )\n",
    "resultados_fe = modelo_fe.fit()"
   ]
  },
  {
   "cell_type": "code",
   "execution_count": 59,
   "id": "303d9520",
   "metadata": {
    "colab": {
     "base_uri": "https://localhost:8080/"
    },
    "executionInfo": {
     "elapsed": 210,
     "status": "ok",
     "timestamp": 1722988787762,
     "user": {
      "displayName": "Paul Gálvez",
      "userId": "07569692290354937300"
     },
     "user_tz": 420
    },
    "id": "303d9520",
    "outputId": "b4cfed80-abfe-4218-8021-373993d3baa6"
   },
   "outputs": [
    {
     "name": "stdout",
     "output_type": "stream",
     "text": [
      "                          PanelOLS Estimation Summary                           \n",
      "================================================================================\n",
      "Dep. Variable:       ventas_semanales   R-squared:                        0.0267\n",
      "Estimator:                   PanelOLS   R-squared (Between):             -0.0069\n",
      "No. Observations:                5148   R-squared (Within):               0.0267\n",
      "Date:                Wed, Aug 07 2024   R-squared (Overall):              0.0249\n",
      "Time:                        14:07:53   Log-likelihood                -7.527e+04\n",
      "Cov. Estimator:            Unadjusted                                           \n",
      "                                        F-statistic:                      68.502\n",
      "Entities:                         143   P-value                           0.0000\n",
      "Avg Obs:                       36.000   Distribution:                  F(2,5003)\n",
      "Min Obs:                       28.000                                           \n",
      "Max Obs:                       42.000   F-statistic (robust):             68.502\n",
      "                                        P-value                           0.0000\n",
      "Time periods:                      45   Distribution:                  F(2,5003)\n",
      "Avg Obs:                       114.40                                           \n",
      "Min Obs:                       106.00                                           \n",
      "Max Obs:                       124.00                                           \n",
      "                                                                                \n",
      "                                Parameter Estimates                                 \n",
      "====================================================================================\n",
      "                  Parameter  Std. Err.     T-stat    P-value    Lower CI    Upper CI\n",
      "------------------------------------------------------------------------------------\n",
      "const             1.699e+06  5.713e+04     29.742     0.0000   1.587e+06   1.811e+06\n",
      "indice_precios_c    -1664.1     204.85    -8.1238     0.0000     -2065.7     -1262.5\n",
      "tasa_desempleo   -4.609e+04     4429.5    -10.406     0.0000  -5.478e+04  -3.741e+04\n",
      "====================================================================================\n",
      "\n",
      "F-test for Poolability: 2.0057\n",
      "P-value: 0.0000\n",
      "Distribution: F(142,5003)\n",
      "\n",
      "Included effects: Entity\n"
     ]
    }
   ],
   "source": [
    "print(resultados_fe)"
   ]
  },
  {
   "cell_type": "code",
   "execution_count": 60,
   "id": "2965df14",
   "metadata": {
    "executionInfo": {
     "elapsed": 205,
     "status": "ok",
     "timestamp": 1722988791557,
     "user": {
      "displayName": "Paul Gálvez",
      "userId": "07569692290354937300"
     },
     "user_tz": 420
    },
    "id": "2965df14"
   },
   "outputs": [],
   "source": [
    "#modelo efecto aleatorio y_train, X_train"
   ]
  },
  {
   "cell_type": "code",
   "execution_count": 61,
   "id": "b316f8c9",
   "metadata": {
    "executionInfo": {
     "elapsed": 200,
     "status": "ok",
     "timestamp": 1722988793234,
     "user": {
      "displayName": "Paul Gálvez",
      "userId": "07569692290354937300"
     },
     "user_tz": 420
    },
    "id": "b316f8c9"
   },
   "outputs": [],
   "source": [
    "from linearmodels import RandomEffects"
   ]
  },
  {
   "cell_type": "code",
   "execution_count": 62,
   "id": "2aeb9ac4",
   "metadata": {
    "executionInfo": {
     "elapsed": 215,
     "status": "ok",
     "timestamp": 1722988795237,
     "user": {
      "displayName": "Paul Gálvez",
      "userId": "07569692290354937300"
     },
     "user_tz": 420
    },
    "id": "2aeb9ac4"
   },
   "outputs": [],
   "source": [
    "modelo_re = RandomEffects(y_train, X_train)\n"
   ]
  },
  {
   "cell_type": "code",
   "execution_count": 63,
   "id": "5d040148",
   "metadata": {
    "executionInfo": {
     "elapsed": 267,
     "status": "ok",
     "timestamp": 1722988796240,
     "user": {
      "displayName": "Paul Gálvez",
      "userId": "07569692290354937300"
     },
     "user_tz": 420
    },
    "id": "5d040148"
   },
   "outputs": [],
   "source": [
    "resultados_re = modelo_re.fit()"
   ]
  },
  {
   "cell_type": "code",
   "execution_count": 64,
   "id": "97fb72b6",
   "metadata": {
    "colab": {
     "base_uri": "https://localhost:8080/"
    },
    "executionInfo": {
     "elapsed": 7,
     "status": "ok",
     "timestamp": 1722988796942,
     "user": {
      "displayName": "Paul Gálvez",
      "userId": "07569692290354937300"
     },
     "user_tz": 420
    },
    "id": "97fb72b6",
    "outputId": "cd7edd5d-1856-488a-c7ac-a434e9fd8449"
   },
   "outputs": [
    {
     "name": "stdout",
     "output_type": "stream",
     "text": [
      "                        RandomEffects Estimation Summary                        \n",
      "================================================================================\n",
      "Dep. Variable:       ventas_semanales   R-squared:                        0.0261\n",
      "Estimator:              RandomEffects   R-squared (Between):             -0.0062\n",
      "No. Observations:                5148   R-squared (Within):               0.0266\n",
      "Date:                Wed, Aug 07 2024   R-squared (Overall):              0.0249\n",
      "Time:                        14:07:53   Log-likelihood                -7.534e+04\n",
      "Cov. Estimator:            Unadjusted                                           \n",
      "                                        F-statistic:                      69.060\n",
      "Entities:                         143   P-value                           0.0000\n",
      "Avg Obs:                       36.000   Distribution:                  F(2,5145)\n",
      "Min Obs:                       28.000                                           \n",
      "Max Obs:                       42.000   F-statistic (robust):             67.991\n",
      "                                        P-value                           0.0000\n",
      "Time periods:                      45   Distribution:                  F(2,5145)\n",
      "Avg Obs:                       114.40                                           \n",
      "Min Obs:                       106.00                                           \n",
      "Max Obs:                       124.00                                           \n",
      "                                                                                \n",
      "                                Parameter Estimates                                 \n",
      "====================================================================================\n",
      "                  Parameter  Std. Err.     T-stat    P-value    Lower CI    Upper CI\n",
      "------------------------------------------------------------------------------------\n",
      "const             1.691e+06  5.722e+04     29.557     0.0000   1.579e+06   1.803e+06\n",
      "indice_precios_c    -1661.3     204.52    -8.1233     0.0000     -2062.3     -1260.4\n",
      "tasa_desempleo   -4.517e+04     4352.1    -10.378     0.0000   -5.37e+04  -3.664e+04\n",
      "====================================================================================\n"
     ]
    }
   ],
   "source": [
    "print(resultados_re)"
   ]
  },
  {
   "cell_type": "code",
   "execution_count": 65,
   "id": "b3743d29",
   "metadata": {
    "executionInfo": {
     "elapsed": 199,
     "status": "ok",
     "timestamp": 1722988800492,
     "user": {
      "displayName": "Paul Gálvez",
      "userId": "07569692290354937300"
     },
     "user_tz": 420
    },
    "id": "b3743d29"
   },
   "outputs": [],
   "source": [
    "#test de hausman"
   ]
  },
  {
   "cell_type": "code",
   "execution_count": 66,
   "id": "362772dc",
   "metadata": {
    "executionInfo": {
     "elapsed": 6,
     "status": "ok",
     "timestamp": 1722988801983,
     "user": {
      "displayName": "Paul Gálvez",
      "userId": "07569692290354937300"
     },
     "user_tz": 420
    },
    "id": "362772dc"
   },
   "outputs": [],
   "source": [
    "import numpy.linalg as la\n",
    "from scipy import stats\n",
    "import numpy as np"
   ]
  },
  {
   "cell_type": "code",
   "execution_count": 67,
   "id": "5fac3aac",
   "metadata": {
    "executionInfo": {
     "elapsed": 2,
     "status": "ok",
     "timestamp": 1722988803244,
     "user": {
      "displayName": "Paul Gálvez",
      "userId": "07569692290354937300"
     },
     "user_tz": 420
    },
    "id": "5fac3aac"
   },
   "outputs": [],
   "source": [
    "def hausman(fe, re):\n",
    "    b = fe.params\n",
    "    B = re.params\n",
    "    v_b = fe.cov\n",
    "    v_B = re.cov\n",
    "    df = b[np.abs(b) < 1e8].size\n",
    "    chi2 = np.dot((b - B).T, la.inv(v_b - v_B).dot(b - B))\n",
    "\n",
    "    pval = stats.chi2.sf(chi2, df)\n",
    "    return chi2, df, pval"
   ]
  },
  {
   "cell_type": "code",
   "execution_count": 68,
   "id": "30640ad3",
   "metadata": {
    "executionInfo": {
     "elapsed": 239,
     "status": "ok",
     "timestamp": 1722988805244,
     "user": {
      "displayName": "Paul Gálvez",
      "userId": "07569692290354937300"
     },
     "user_tz": 420
    },
    "id": "30640ad3"
   },
   "outputs": [],
   "source": [
    "hausman = hausman(resultados_fe, resultados_re)"
   ]
  },
  {
   "cell_type": "code",
   "execution_count": 69,
   "id": "3fe60573",
   "metadata": {
    "colab": {
     "base_uri": "https://localhost:8080/"
    },
    "executionInfo": {
     "elapsed": 211,
     "status": "ok",
     "timestamp": 1722988807546,
     "user": {
      "displayName": "Paul Gálvez",
      "userId": "07569692290354937300"
     },
     "user_tz": 420
    },
    "id": "3fe60573",
    "outputId": "422fe402-3af7-4631-e3d9-9344954f09cb"
   },
   "outputs": [
    {
     "name": "stdout",
     "output_type": "stream",
     "text": [
      "chi-Squared: 1.3113360652725772\n",
      "degrees of freedom: 3\n",
      "p-Value:0.7264429917332984\n"
     ]
    }
   ],
   "source": [
    "print('chi-Squared: ' + str(hausman[0]))\n",
    "print('degrees of freedom: ' + str(hausman[1]))\n",
    "print('p-Value:' + str(hausman[2]))"
   ]
  },
  {
   "cell_type": "code",
   "execution_count": 70,
   "id": "25434ac5-c7bb-434c-aefe-d5d16dabde22",
   "metadata": {
    "executionInfo": {
     "elapsed": 221,
     "status": "ok",
     "timestamp": 1722988809697,
     "user": {
      "displayName": "Paul Gálvez",
      "userId": "07569692290354937300"
     },
     "user_tz": 420
    },
    "id": "25434ac5-c7bb-434c-aefe-d5d16dabde22"
   },
   "outputs": [],
   "source": [
    "# Predecir los valores del conjunto de prueba con el modelo seleccionado: efectos aleatorios\n",
    "y_pred = resultados_re.predict(X_test)"
   ]
  },
  {
   "cell_type": "code",
   "execution_count": 71,
   "id": "d27c6a1c",
   "metadata": {
    "colab": {
     "base_uri": "https://localhost:8080/",
     "height": 455
    },
    "executionInfo": {
     "elapsed": 272,
     "status": "ok",
     "timestamp": 1722988811327,
     "user": {
      "displayName": "Paul Gálvez",
      "userId": "07569692290354937300"
     },
     "user_tz": 420
    },
    "id": "d27c6a1c",
    "outputId": "6b9ed642-c9b6-4d57-bbdd-f4793c752870"
   },
   "outputs": [
    {
     "data": {
      "text/html": [
       "<div>\n",
       "<style scoped>\n",
       "    .dataframe tbody tr th:only-of-type {\n",
       "        vertical-align: middle;\n",
       "    }\n",
       "\n",
       "    .dataframe tbody tr th {\n",
       "        vertical-align: top;\n",
       "    }\n",
       "\n",
       "    .dataframe thead th {\n",
       "        text-align: right;\n",
       "    }\n",
       "</style>\n",
       "<table border=\"1\" class=\"dataframe\">\n",
       "  <thead>\n",
       "    <tr style=\"text-align: right;\">\n",
       "      <th></th>\n",
       "      <th></th>\n",
       "      <th>predictions</th>\n",
       "    </tr>\n",
       "    <tr>\n",
       "      <th>Date</th>\n",
       "      <th>tienda</th>\n",
       "      <th></th>\n",
       "    </tr>\n",
       "  </thead>\n",
       "  <tbody>\n",
       "    <tr>\n",
       "      <th>2010-03-12</th>\n",
       "      <th>18</th>\n",
       "      <td>1.056566e+06</td>\n",
       "    </tr>\n",
       "    <tr>\n",
       "      <th>2011-06-24</th>\n",
       "      <th>24</th>\n",
       "      <td>1.095498e+06</td>\n",
       "    </tr>\n",
       "    <tr>\n",
       "      <th>2011-10-28</th>\n",
       "      <th>2</th>\n",
       "      <td>9.939929e+05</td>\n",
       "    </tr>\n",
       "    <tr>\n",
       "      <th>2011-11-11</th>\n",
       "      <th>26</th>\n",
       "      <td>1.121243e+06</td>\n",
       "    </tr>\n",
       "    <tr>\n",
       "      <th>2010-03-19</th>\n",
       "      <th>36</th>\n",
       "      <td>9.559244e+05</td>\n",
       "    </tr>\n",
       "    <tr>\n",
       "      <th>...</th>\n",
       "      <th>...</th>\n",
       "      <td>...</td>\n",
       "    </tr>\n",
       "    <tr>\n",
       "      <th>2010-08-06</th>\n",
       "      <th>19</th>\n",
       "      <td>1.105006e+06</td>\n",
       "    </tr>\n",
       "    <tr>\n",
       "      <th>2010-05-28</th>\n",
       "      <th>45</th>\n",
       "      <td>9.867494e+05</td>\n",
       "    </tr>\n",
       "    <tr>\n",
       "      <th>2010-02-05</th>\n",
       "      <th>45</th>\n",
       "      <td>9.828399e+05</td>\n",
       "    </tr>\n",
       "    <tr>\n",
       "      <th>2010-04-02</th>\n",
       "      <th>2</th>\n",
       "      <td>9.710835e+05</td>\n",
       "    </tr>\n",
       "    <tr>\n",
       "      <th>2011-03-04</th>\n",
       "      <th>17</th>\n",
       "      <td>1.167923e+06</td>\n",
       "    </tr>\n",
       "  </tbody>\n",
       "</table>\n",
       "<p>1287 rows × 1 columns</p>\n",
       "</div>"
      ],
      "text/plain": [
       "                    predictions\n",
       "Date       tienda              \n",
       "2010-03-12 18      1.056566e+06\n",
       "2011-06-24 24      1.095498e+06\n",
       "2011-10-28 2       9.939929e+05\n",
       "2011-11-11 26      1.121243e+06\n",
       "2010-03-19 36      9.559244e+05\n",
       "...                         ...\n",
       "2010-08-06 19      1.105006e+06\n",
       "2010-05-28 45      9.867494e+05\n",
       "2010-02-05 45      9.828399e+05\n",
       "2010-04-02 2       9.710835e+05\n",
       "2011-03-04 17      1.167923e+06\n",
       "\n",
       "[1287 rows x 1 columns]"
      ]
     },
     "execution_count": 71,
     "metadata": {},
     "output_type": "execute_result"
    }
   ],
   "source": [
    "y_pred"
   ]
  },
  {
   "cell_type": "code",
   "execution_count": 72,
   "id": "2be34d68-2897-48cd-9af8-e97f6b821723",
   "metadata": {
    "colab": {
     "base_uri": "https://localhost:8080/",
     "height": 564
    },
    "executionInfo": {
     "elapsed": 596,
     "status": "ok",
     "timestamp": 1722989316641,
     "user": {
      "displayName": "Paul Gálvez",
      "userId": "07569692290354937300"
     },
     "user_tz": 420
    },
    "id": "2be34d68-2897-48cd-9af8-e97f6b821723",
    "outputId": "4f134ab3-996f-4b7c-a9ca-de3ab551d9ac"
   },
   "outputs": [
    {
     "data": {
      "image/png": "[encoded data removed]",
      "text/plain": [
       "<Figure size 1000x600 with 1 Axes>"
      ]
     },
     "metadata": {},
     "output_type": "display_data"
    }
   ],
   "source": [
    "# Graficar los valores reales vs. los valores predichos\n",
    "plt.figure(figsize=(10, 6))\n",
    "plt.scatter(y_test, y_pred, alpha=0.7)\n",
    "plt.plot([y_test.min(), y_test.max()], [y_test.min(), y_test.max()], 'r--')\n",
    "plt.xlabel('Valores Reales')\n",
    "plt.ylabel('Valores Predichos')\n",
    "plt.title('Valores Reales vs. Valores Predichos')\n",
    "plt.show()"
   ]
  },
  {
   "cell_type": "code",
   "execution_count": 73,
   "id": "ac1d7dc6-6edb-4ad8-aa32-3f018c409080",
   "metadata": {
    "colab": {
     "base_uri": "https://localhost:8080/"
    },
    "executionInfo": {
     "elapsed": 218,
     "status": "ok",
     "timestamp": 1722989319911,
     "user": {
      "displayName": "Paul Gálvez",
      "userId": "07569692290354937300"
     },
     "user_tz": 420
    },
    "id": "ac1d7dc6-6edb-4ad8-aa32-3f018c409080",
    "outputId": "cada5dcc-b3f9-4b12-c9ef-6720e75050c7"
   },
   "outputs": [
    {
     "name": "stdout",
     "output_type": "stream",
     "text": [
      "const               1.691130e+06\n",
      "indice_precios_c   -1.661334e+03\n",
      "tasa_desempleo     -4.516690e+04\n",
      "Name: parameter, dtype: float64\n"
     ]
    }
   ],
   "source": [
    "# Obtener la importancia de las características\n",
    "coeficientes = resultados_re.params\n",
    "\n",
    "# Mostrar los coeficientes\n",
    "print(coeficientes)"
   ]
  },
  {
   "cell_type": "code",
   "execution_count": null,
   "id": "b9757dd9-2932-47f7-90f9-4d0a2f3475b9",
   "metadata": {
    "executionInfo": {
     "elapsed": 24114,
     "status": "aborted",
     "timestamp": 1722988077924,
     "user": {
      "displayName": "Paul Gálvez",
      "userId": "07569692290354937300"
     },
     "user_tz": 420
    },
    "id": "b9757dd9-2932-47f7-90f9-4d0a2f3475b9"
   },
   "outputs": [],
   "source": []
  }
 ],
 "metadata": {
  "colab": {
   "provenance": []
  },
  "kernelspec": {
   "display_name": "Python 3 (ipykernel)",
   "language": "python",
   "name": "python3"
  },
  "language_info": {
   "codemirror_mode": {
    "name": "ipython",
    "version": 3
   },
   "file_extension": ".py",
   "mimetype": "text/x-python",
   "name": "python",
   "nbconvert_exporter": "python",
   "pygments_lexer": "ipython3",
   "version": "3.12.4"
  }
 },
 "nbformat": 4,
 "nbformat_minor": 5
}
